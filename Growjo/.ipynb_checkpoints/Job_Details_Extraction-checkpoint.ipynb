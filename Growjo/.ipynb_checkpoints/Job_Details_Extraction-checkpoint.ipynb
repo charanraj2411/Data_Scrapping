{
 "cells": [
  {
   "cell_type": "code",
   "execution_count": 1,
   "id": "4fb13537",
   "metadata": {},
   "outputs": [],
   "source": [
    "import pandas as pd\n",
    "import re\n",
    "from selenium import webdriver\n",
    "from selenium.webdriver.common.keys import Keys\n",
    "from selenium.webdriver.support.ui import WebDriverWait\n",
    "from selenium.webdriver.common.by import By\n",
    "from selenium.webdriver.support import expected_conditions as EC\n",
    "import time"
   ]
  },
  {
   "cell_type": "code",
   "execution_count": 2,
   "id": "2b567c23",
   "metadata": {
    "scrolled": true
   },
   "outputs": [
    {
     "name": "stderr",
     "output_type": "stream",
     "text": [
      "<ipython-input-2-db71e2e376f2>:1: DeprecationWarning: executable_path has been deprecated, please pass in a Service object\n",
      "  driver= webdriver.Chrome(\"C:/Users/DELL/Downloads/chromedriver_win32/chromedriver.exe\")\n"
     ]
    }
   ],
   "source": [
    "driver= webdriver.Chrome(\"C:/Users/DELL/Downloads/chromedriver_win32/chromedriver.exe\")\n",
    "driver.maximize_window()\n",
    "driver.implicitly_wait(20)\n",
    "driver.get(\"http://www.linkedin.com\")"
   ]
  },
  {
   "cell_type": "code",
   "execution_count": 3,
   "id": "bfe2dd62",
   "metadata": {},
   "outputs": [],
   "source": [
    "wait=WebDriverWait(driver, 5)"
   ]
  },
  {
   "cell_type": "code",
   "execution_count": 4,
   "id": "579f6bab",
   "metadata": {},
   "outputs": [],
   "source": [
    "wait.until(EC.presence_of_element_located((By.XPATH, \"//a[@class='nav__button-secondary']\")))\n",
    "driver.find_element(By.XPATH,'//a[@class=\"nav__button-secondary\"]').click()"
   ]
  },
  {
   "cell_type": "code",
   "execution_count": 5,
   "id": "1c480d14",
   "metadata": {},
   "outputs": [],
   "source": [
    "wait.until(EC.presence_of_element_located((By.XPATH, '//*[@id=\"username\"]')))\n",
    "driver.find_element(By.XPATH,'//*[@id=\"username\"]').send_keys(\"charanrajshetty1993@gmail.com\")\n",
    "\n",
    "wait.until(EC.presence_of_element_located((By.XPATH, '//*[@id=\"password\"]')))\n",
    "driver.find_element(By.XPATH,'//*[@id=\"password\"]').send_keys(\"Charan@1993\")\n",
    "\n",
    "wait.until(EC.presence_of_element_located((By.XPATH, '//button[text()=\"Sign in\"]')))\n",
    "driver.find_element(By.XPATH,'//button[text()=\"Sign in\"]').click()"
   ]
  },
  {
   "cell_type": "code",
   "execution_count": 6,
   "id": "b5b1ce75",
   "metadata": {},
   "outputs": [],
   "source": [
    "jobs=pd.read_csv('Job_Links_1 - Copy.csv')"
   ]
  },
  {
   "cell_type": "code",
   "execution_count": 7,
   "id": "b420275d",
   "metadata": {
    "scrolled": false
   },
   "outputs": [
    {
     "data": {
      "text/plain": [
       "(17616, 11)"
      ]
     },
     "execution_count": 7,
     "metadata": {},
     "output_type": "execute_result"
    }
   ],
   "source": [
    "jobs.shape"
   ]
  },
  {
   "cell_type": "code",
   "execution_count": 12,
   "id": "c52b82c1",
   "metadata": {
    "scrolled": true
   },
   "outputs": [
    {
     "data": {
      "text/plain": [
       "Unnamed: 0                                                   15922.0\n",
       "City                                                       San Diego\n",
       "Rank                                                             183\n",
       "Company                                                        BASIC\n",
       "Industry                                                      Design\n",
       "Funding                                                          NaN\n",
       "Employees                                                        232\n",
       "Employee_Growth                                                 -31%\n",
       "Current_Jobs                                                       1\n",
       "Job_Links          http://www.linkedin.com/company/basic-agency/jobs\n",
       "job_url            https://www.linkedin.com/jobs/view/2829480708/...\n",
       "Name: 16393, dtype: object"
      ]
     },
     "execution_count": 12,
     "metadata": {},
     "output_type": "execute_result"
    }
   ],
   "source": [
    "jobs.loc[16393,:]"
   ]
  },
  {
   "cell_type": "code",
   "execution_count": null,
   "id": "37edcb3e",
   "metadata": {},
   "outputs": [],
   "source": [
    "for item in range(16393,17616):\n",
    "    driver.get(jobs.loc[item,'job_url'])\n",
    "    try:\n",
    "        wait.until(EC.presence_of_element_located((By.XPATH, \"//h1[contains(@class,'t-bold')]\")))\n",
    "        jobs.loc[item,'Job_title']=driver.find_element(By.XPATH,\"//h1[contains(@class,'t-bold')]\").text\n",
    "    \n",
    "        wait.until(EC.presence_of_element_located((By.XPATH, \"//span[contains(@class,'bullet')]\")))\n",
    "        jobs.loc[item,'Location']=driver.find_element(By.XPATH,\"//span[contains(@class,'bullet')]\").text\n",
    "    \n",
    "        wait.until(EC.presence_of_element_located((By.XPATH, \"//div[contains(@class,'job-insight')][1]//span[1]\")))\n",
    "        jobs.loc[item,'Job_Level']=driver.find_element(By.XPATH,\"//div[contains(@class,'job-insight')][1]//span[1]\").text\n",
    "    \n",
    "        try:\n",
    "            wait.until(EC.presence_of_element_located((By.XPATH, \"//div[contains(@class,'job-insight')]//span[text()='Actively recruiting']\")))\n",
    "            jobs.loc[item,'JobRecruit_Status']=driver.find_element(By.XPATH,\"//div[contains(@class,'job-insight')]//span[text()='Actively recruiting']\").text\n",
    "        except:\n",
    "            jobs.loc[item,'JobRecruit_Status']='No Active recruit'\n",
    "    except:\n",
    "        continue\n"
   ]
  },
  {
   "cell_type": "code",
   "execution_count": null,
   "id": "58f94d66",
   "metadata": {},
   "outputs": [],
   "source": [
    "jobs"
   ]
  },
  {
   "cell_type": "code",
   "execution_count": null,
   "id": "85d22758",
   "metadata": {},
   "outputs": [],
   "source": [
    "jobs.to_csv('Job_details2.csv')"
   ]
  }
 ],
 "metadata": {
  "kernelspec": {
   "display_name": "Python 3",
   "language": "python",
   "name": "python3"
  },
  "language_info": {
   "codemirror_mode": {
    "name": "ipython",
    "version": 3
   },
   "file_extension": ".py",
   "mimetype": "text/x-python",
   "name": "python",
   "nbconvert_exporter": "python",
   "pygments_lexer": "ipython3",
   "version": "3.8.8"
  }
 },
 "nbformat": 4,
 "nbformat_minor": 5
}

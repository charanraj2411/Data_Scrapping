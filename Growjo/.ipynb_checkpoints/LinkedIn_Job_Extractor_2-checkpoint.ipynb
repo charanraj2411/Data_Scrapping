{
 "cells": [
  {
   "cell_type": "code",
   "execution_count": 58,
   "id": "d175b277",
   "metadata": {},
   "outputs": [],
   "source": [
    "import pandas as pd\n",
    "import re\n",
    "from selenium import webdriver\n",
    "from selenium.webdriver.common.keys import Keys\n",
    "from selenium.webdriver.support.ui import WebDriverWait\n",
    "from selenium.webdriver.common.by import By\n",
    "from selenium.webdriver.support import expected_conditions as EC\n",
    "import time"
   ]
  },
  {
   "cell_type": "code",
   "execution_count": 59,
   "id": "50642a04",
   "metadata": {},
   "outputs": [
    {
     "name": "stderr",
     "output_type": "stream",
     "text": [
      "<ipython-input-59-db71e2e376f2>:1: DeprecationWarning: executable_path has been deprecated, please pass in a Service object\n",
      "  driver= webdriver.Chrome(\"C:/Users/DELL/Downloads/chromedriver_win32/chromedriver.exe\")\n"
     ]
    }
   ],
   "source": [
    "driver= webdriver.Chrome(\"C:/Users/DELL/Downloads/chromedriver_win32/chromedriver.exe\")\n",
    "driver.maximize_window()\n",
    "driver.implicitly_wait(20)\n",
    "driver.get(\"http://www.linkedin.com\")"
   ]
  },
  {
   "cell_type": "code",
   "execution_count": null,
   "id": "e94ab430",
   "metadata": {},
   "outputs": [],
   "source": [
    "df = pd.read_csv('GrowJo_Data.csv')"
   ]
  },
  {
   "cell_type": "code",
   "execution_count": 61,
   "id": "a9d1eb10",
   "metadata": {},
   "outputs": [],
   "source": [
    "wait=WebDriverWait(driver, 5)"
   ]
  },
  {
   "cell_type": "code",
   "execution_count": 62,
   "id": "5203520d",
   "metadata": {},
   "outputs": [],
   "source": [
    "wait.until(EC.presence_of_element_located((By.XPATH, \"//a[@class='nav__button-secondary']\")))\n",
    "driver.find_element(By.XPATH,'//a[@class=\"nav__button-secondary\"]').click()"
   ]
  },
  {
   "cell_type": "code",
   "execution_count": 63,
   "id": "f725b3ce",
   "metadata": {},
   "outputs": [],
   "source": [
    "wait.until(EC.presence_of_element_located((By.XPATH, '//*[@id=\"username\"]')))\n",
    "driver.find_element(By.XPATH,'//*[@id=\"username\"]').send_keys(\"charanrajshetty1993@gmail.com\")\n",
    "\n",
    "wait.until(EC.presence_of_element_located((By.XPATH, '//*[@id=\"password\"]')))\n",
    "driver.find_element(By.XPATH,'//*[@id=\"password\"]').send_keys(\"Charan@1993\")\n",
    "\n",
    "wait.until(EC.presence_of_element_located((By.XPATH, '//button[text()=\"Sign in\"]')))\n",
    "driver.find_element(By.XPATH,'//button[text()=\"Sign in\"]').click()"
   ]
  },
  {
   "cell_type": "code",
   "execution_count": null,
   "id": "28341a34",
   "metadata": {},
   "outputs": [],
   "source": [
    "df1 = pd.DataFrame(columns=['City','Rank','Company','Industry','Funding','Employees','Employee_Growth','Current_Jobs','Job_Links','job_url'])"
   ]
  },
  {
   "cell_type": "code",
   "execution_count": null,
   "id": "2c48faee",
   "metadata": {},
   "outputs": [],
   "source": [
    "df_list=df.values.tolist()"
   ]
  },
  {
   "cell_type": "code",
   "execution_count": 66,
   "id": "779a3243",
   "metadata": {
    "scrolled": false
   },
   "outputs": [
    {
     "data": {
      "text/plain": [
       "City                                                  Silicon Valley\n",
       "Rank                                                             426\n",
       "Company                                                       CURION\n",
       "Industry                                                    Research\n",
       "Funding                                                          NaN\n",
       "Employees                                                        144\n",
       "Employee_Growth                                                  32%\n",
       "Current_Jobs                                                       1\n",
       "Job_Links          http://www.linkedin.com/company/curion-insight...\n",
       "Name: 2796, dtype: object"
      ]
     },
     "execution_count": 66,
     "metadata": {},
     "output_type": "execute_result"
    }
   ],
   "source": [
    "df.loc[2796,:]"
   ]
  },
  {
   "cell_type": "code",
   "execution_count": null,
   "id": "10f913f9",
   "metadata": {
    "scrolled": false
   },
   "outputs": [],
   "source": [
    "i=0\n",
    "for company in range(3000,4000):\n",
    "    driver.get(df.loc[company,'Job_Links'])\n",
    "    set1=set()\n",
    "    while True:\n",
    "        try:\n",
    "            element = wait.until(EC.element_to_be_clickable((By.XPATH, \"//span[text()='Next']\")))\n",
    "            job_links=driver.find_elements(By.XPATH,\"//div[contains(@class,'job-card-square__main relative display-flex flex-grow-1 flex-column align-items-stretch')]//a[contains(@href,'jobs/view')]\")\n",
    "            for link in job_links:\n",
    "                set1.add(link.get_attribute('href'))\n",
    "            element.click()\n",
    "        except:\n",
    "            job_links=driver.find_elements(By.XPATH,\"//div[contains(@class,'job-card-square__main relative display-flex flex-grow-1 flex-column align-items-stretch')]//a[contains(@href,'jobs/view')]\")\n",
    "            for link in job_links:\n",
    "                set1.add(link.get_attribute('href'))\n",
    "            break\n",
    "    job_list = list(set1)        \n",
    "    for item in range(len(job_list)):\n",
    "        df1.loc[i,['City','Rank','Company','Industry','Funding','Employees','Employee_Growth','Current_Jobs','Job_Links']]=df_list[company]\n",
    "        df1.loc[i,'job_url']=job_list[item]\n",
    "        i=i+1"
   ]
  },
  {
   "cell_type": "code",
   "execution_count": null,
   "id": "da5c039a",
   "metadata": {},
   "outputs": [],
   "source": [
    "df1"
   ]
  },
  {
   "cell_type": "code",
   "execution_count": null,
   "id": "18e3813b",
   "metadata": {},
   "outputs": [],
   "source": [
    "df1.to_csv('Job_Links_3.csv')"
   ]
  }
 ],
 "metadata": {
  "kernelspec": {
   "display_name": "Python 3",
   "language": "python",
   "name": "python3"
  },
  "language_info": {
   "codemirror_mode": {
    "name": "ipython",
    "version": 3
   },
   "file_extension": ".py",
   "mimetype": "text/x-python",
   "name": "python",
   "nbconvert_exporter": "python",
   "pygments_lexer": "ipython3",
   "version": "3.8.8"
  }
 },
 "nbformat": 4,
 "nbformat_minor": 5
}

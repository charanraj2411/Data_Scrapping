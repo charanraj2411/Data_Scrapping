{
 "cells": [
  {
   "cell_type": "code",
   "execution_count": 1,
   "id": "887e69b1",
   "metadata": {},
   "outputs": [],
   "source": [
    "import pandas as pd\n",
    "import re\n",
    "from selenium import webdriver\n",
    "from selenium.webdriver.common.keys import Keys\n",
    "from selenium.webdriver.support.ui import WebDriverWait\n",
    "from selenium.webdriver.common.by import By\n",
    "from selenium.webdriver.support import expected_conditions as EC\n",
    "import time\n",
    "from bs4 import BeautifulSoup"
   ]
  },
  {
   "cell_type": "code",
   "execution_count": 2,
   "id": "07a7e87f",
   "metadata": {},
   "outputs": [
    {
     "name": "stderr",
     "output_type": "stream",
     "text": [
      "<ipython-input-2-db71e2e376f2>:1: DeprecationWarning: executable_path has been deprecated, please pass in a Service object\n",
      "  driver= webdriver.Chrome(\"C:/Users/DELL/Downloads/chromedriver_win32/chromedriver.exe\")\n"
     ]
    }
   ],
   "source": [
    "driver= webdriver.Chrome(\"C:/Users/DELL/Downloads/chromedriver_win32/chromedriver.exe\")\n",
    "driver.maximize_window()\n",
    "driver.implicitly_wait(20)\n",
    "driver.get(\"http://www.linkedin.com\")"
   ]
  },
  {
   "cell_type": "code",
   "execution_count": 3,
   "id": "4955525e",
   "metadata": {},
   "outputs": [],
   "source": [
    "wait=WebDriverWait(driver, 5)\n",
    "\n",
    "wait.until(EC.presence_of_element_located((By.XPATH, \"//a[@class='nav__button-secondary']\")))\n",
    "driver.find_element(By.XPATH,'//a[@class=\"nav__button-secondary\"]').click()\n",
    "\n",
    "wait.until(EC.presence_of_element_located((By.XPATH, '//*[@id=\"username\"]')))\n",
    "driver.find_element(By.XPATH,'//*[@id=\"username\"]').send_keys(\"charanrajshetty1993@gmail.com\")\n",
    "\n",
    "wait.until(EC.presence_of_element_located((By.XPATH, '//*[@id=\"password\"]')))\n",
    "driver.find_element(By.XPATH,'//*[@id=\"password\"]').send_keys(\"Charan@1993\")\n",
    "\n",
    "wait.until(EC.presence_of_element_located((By.XPATH, '//button[text()=\"Sign in\"]')))\n",
    "driver.find_element(By.XPATH,'//button[text()=\"Sign in\"]').click()"
   ]
  },
  {
   "cell_type": "code",
   "execution_count": 4,
   "id": "cfd0cb05",
   "metadata": {},
   "outputs": [],
   "source": [
    "driver.get(\"https://www.linkedin.com/jobs/view/2814855487/?eBP=CwEAAAF9wZ8EyM-Pibbq1kYe3m7JIyaN8Urt17DuFnvwrX99TAhPzfXE0h9tSJxeQZ3PXzmuyRdJMSKvQ8tbko3TypN_Lir4STVQAIwzGGTpEAU63HKMsfK6tLlxqICMZ1Zb2vBg-jD5k3KPC-OhASB_2Tu3xlggymJ0WlPTphAc22yXzOlvSApPea6h_aBAmO-RTF6hTKf_RLibF7QPuWlZ9d9HPlegQej-2LMnNkU2PRFtlmQnk1XLFq1VDJQlfnzDAfO16DMJrpMmDYHqh2iGjfGJDIpZAkN_Qvyja1XFb4YabD6_bwref-1dRcIoS0BL-DB0mZM1Bl1Wz7_bv1qBoYHPhNOkl7A8q3T3zEx-cw0865s4mMWZTlpVDfLuQvnf5Gfh16-xSfWFaJkUYv4tSYGuxQ&refId=j2okeWSJCIkO5B6PnQYGjw%3D%3D&trackingId=1JzoHeoM6uNlTdwbpbgkIQ%3D%3D&trk=flagship3_search_srp_jobs\")"
   ]
  },
  {
   "cell_type": "code",
   "execution_count": 5,
   "id": "7d0674d4",
   "metadata": {},
   "outputs": [
    {
     "name": "stdout",
     "output_type": "stream",
     "text": [
      "Machine Learning Consultant | Data Science Leaders Program\n"
     ]
    }
   ],
   "source": [
    "## Get the job title\n",
    "try:\n",
    "    wait.until(EC.presence_of_element_located((By.XPATH, \"//h1[contains(@class,'t-bold')]\")))\n",
    "    Job_title=driver.find_element(By.XPATH,\"//h1[contains(@class,'t-bold')]\").text\n",
    "    print(Job_title)\n",
    "except:\n",
    "    print('No Job Title found')"
   ]
  },
  {
   "cell_type": "code",
   "execution_count": 6,
   "id": "5230132b",
   "metadata": {},
   "outputs": [
    {
     "name": "stdout",
     "output_type": "stream",
     "text": [
      "Bangalore Urban, Karnataka, India\n"
     ]
    }
   ],
   "source": [
    "## Get the Location\n",
    "try:\n",
    "    wait.until(EC.presence_of_element_located((By.XPATH, \"//span[contains(@class,'bullet')]\")))\n",
    "    Location=driver.find_element(By.XPATH,\"//span[contains(@class,'bullet')]\").text\n",
    "    print(Location)\n",
    "except:\n",
    "    print('No Location details found')"
   ]
  },
  {
   "cell_type": "code",
   "execution_count": 11,
   "id": "13fcf94a",
   "metadata": {},
   "outputs": [
    {
     "name": "stdout",
     "output_type": "stream",
     "text": [
      "Univ.AI\n"
     ]
    }
   ],
   "source": [
    "## Get the Company Name\n",
    "try:\n",
    "    wait.until(EC.presence_of_element_located((By.XPATH, \"//span//a[contains(@href,'/company/')]\")))\n",
    "    Company=driver.find_element(By.XPATH,\"//span//a[contains(@href,'/company/')]\").text\n",
    "    print(Company)\n",
    "except:\n",
    "    print('No Company details found')"
   ]
  },
  {
   "cell_type": "code",
   "execution_count": 8,
   "id": "9a39c16f",
   "metadata": {},
   "outputs": [
    {
     "name": "stdout",
     "output_type": "stream",
     "text": [
      "Full-time\n"
     ]
    }
   ],
   "source": [
    "## Get the Job Level\n",
    "try:\n",
    "    wait.until(EC.presence_of_element_located((By.XPATH, \"//div[contains(@class,'job-insight')][1]//span[1]\")))\n",
    "    Job_Level=driver.find_element(By.XPATH,\"//div[contains(@class,'job-insight')][1]//span[1]\").text\n",
    "    print(Job_Level)\n",
    "except:\n",
    "    print('No Job Level details found')"
   ]
  },
  {
   "cell_type": "code",
   "execution_count": 9,
   "id": "e509a4c8",
   "metadata": {},
   "outputs": [
    {
     "name": "stdout",
     "output_type": "stream",
     "text": [
      "No Job Recuit Details found\n"
     ]
    }
   ],
   "source": [
    "## Get the Recruit Status\n",
    "try:\n",
    "    wait.until(EC.presence_of_element_located(   (By.XPATH, \"//div[contains(@class,'job-insight')]//span[text()='Actively recruiting']\")))\n",
    "    JobRecruit_Status=driver.find_element(By.XPATH,\"//div[contains(@class,'job-insight')]//span[text()='Actively recruiting']\").text\n",
    "    print(JobRecruit_Status)\n",
    "except:\n",
    "    print('No Job Recuit Details found')"
   ]
  },
  {
   "cell_type": "code",
   "execution_count": 10,
   "id": "251c6af9",
   "metadata": {},
   "outputs": [
    {
     "name": "stdout",
     "output_type": "stream",
     "text": [
      "Sudheendra Kothapalle\n"
     ]
    }
   ],
   "source": [
    "## Get the Job Poster \n",
    "try:\n",
    "    wait.until(EC.presence_of_element_located(   (By.XPATH, \"//p[contains(@class,'jobs-poster__name')]\")))\n",
    "    JobPoster_Details=driver.find_element(By.XPATH,\"//p[contains(@class,'jobs-poster__name')]\").text\n",
    "    print(JobPoster_Details)\n",
    "except:\n",
    "    print('No Recruiter details found')"
   ]
  },
  {
   "cell_type": "code",
   "execution_count": null,
   "id": "64a9f4a5",
   "metadata": {},
   "outputs": [],
   "source": []
  }
 ],
 "metadata": {
  "kernelspec": {
   "display_name": "Python 3",
   "language": "python",
   "name": "python3"
  },
  "language_info": {
   "codemirror_mode": {
    "name": "ipython",
    "version": 3
   },
   "file_extension": ".py",
   "mimetype": "text/x-python",
   "name": "python",
   "nbconvert_exporter": "python",
   "pygments_lexer": "ipython3",
   "version": "3.8.8"
  }
 },
 "nbformat": 4,
 "nbformat_minor": 5
}

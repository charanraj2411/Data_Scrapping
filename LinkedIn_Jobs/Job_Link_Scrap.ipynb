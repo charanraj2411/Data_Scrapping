{
 "cells": [
  {
   "cell_type": "code",
   "execution_count": 74,
   "id": "bb1663c4",
   "metadata": {},
   "outputs": [],
   "source": [
    "import pandas as pd\n",
    "import re\n",
    "from selenium import webdriver\n",
    "from selenium.webdriver.common.keys import Keys\n",
    "from selenium.webdriver.support.ui import WebDriverWait\n",
    "from selenium.webdriver.common.by import By\n",
    "from selenium.webdriver.support import expected_conditions as EC\n",
    "import time\n",
    "from bs4 import BeautifulSoup"
   ]
  },
  {
   "cell_type": "code",
   "execution_count": 75,
   "id": "07240240",
   "metadata": {},
   "outputs": [
    {
     "name": "stderr",
     "output_type": "stream",
     "text": [
      "<ipython-input-75-db71e2e376f2>:1: DeprecationWarning: executable_path has been deprecated, please pass in a Service object\n",
      "  driver= webdriver.Chrome(\"C:/Users/DELL/Downloads/chromedriver_win32/chromedriver.exe\")\n"
     ]
    }
   ],
   "source": [
    "driver= webdriver.Chrome(\"C:/Users/DELL/Downloads/chromedriver_win32/chromedriver.exe\")\n",
    "driver.maximize_window()\n",
    "driver.implicitly_wait(20)\n",
    "driver.get(\"http://www.linkedin.com\")"
   ]
  },
  {
   "cell_type": "code",
   "execution_count": 76,
   "id": "4697c58d",
   "metadata": {},
   "outputs": [],
   "source": [
    "wait=WebDriverWait(driver, 2)"
   ]
  },
  {
   "cell_type": "code",
   "execution_count": 77,
   "id": "a8f4df4a",
   "metadata": {},
   "outputs": [],
   "source": [
    "wait.until(EC.presence_of_element_located((By.XPATH, \"//a[@class='nav__button-secondary']\")))\n",
    "driver.find_element(By.XPATH,'//a[@class=\"nav__button-secondary\"]').click()\n",
    "\n",
    "wait.until(EC.presence_of_element_located((By.XPATH, '//*[@id=\"username\"]')))\n",
    "driver.find_element(By.XPATH,'//*[@id=\"username\"]').send_keys(\"charanrajshetty1993@gmail.com\")\n",
    "\n",
    "wait.until(EC.presence_of_element_located((By.XPATH, '//*[@id=\"password\"]')))\n",
    "driver.find_element(By.XPATH,'//*[@id=\"password\"]').send_keys(\"Charan@1993\")\n",
    "\n",
    "wait.until(EC.presence_of_element_located((By.XPATH, '//button[text()=\"Sign in\"]')))\n",
    "driver.find_element(By.XPATH,'//button[text()=\"Sign in\"]').click()"
   ]
  },
  {
   "cell_type": "code",
   "execution_count": 78,
   "id": "750edb22",
   "metadata": {},
   "outputs": [
    {
     "name": "stdout",
     "output_type": "stream",
     "text": [
      "Enter the Field Value Data Science\n",
      "Data Science\n",
      "Enter the Location USA\n",
      "USA\n"
     ]
    }
   ],
   "source": [
    "field_name = input(\"Enter the Field Value \")\n",
    "print(field_name)\n",
    "location = input(\"Enter the Location \")\n",
    "print(location)"
   ]
  },
  {
   "cell_type": "code",
   "execution_count": 79,
   "id": "3e1969ff",
   "metadata": {},
   "outputs": [
    {
     "name": "stdout",
     "output_type": "stream",
     "text": [
      "Enter the Sort By Value.Please select any one of 'Most recent' or 'Most relevant' Most recent\n",
      "Most recent\n"
     ]
    }
   ],
   "source": [
    "Sort_By = input(\"Enter the Sort By Value.Please select any one of 'Most recent' or 'Most relevant' \")\n",
    "print(Sort_By)"
   ]
  },
  {
   "cell_type": "code",
   "execution_count": 80,
   "id": "23862009",
   "metadata": {},
   "outputs": [
    {
     "name": "stdout",
     "output_type": "stream",
     "text": [
      "Enter the Date Posted.Please select any one of 'Past Month','Past Week','Past 24 hours','Any Time'Past Month\n",
      "Past Month\n"
     ]
    }
   ],
   "source": [
    "Date_Posted = input(\"Enter the Date Posted.Please select any one of 'Past Month','Past Week','Past 24 hours','Any Time'\")\n",
    "print(Date_Posted)"
   ]
  },
  {
   "cell_type": "code",
   "execution_count": 81,
   "id": "65af60da",
   "metadata": {
    "scrolled": true
   },
   "outputs": [
    {
     "name": "stdout",
     "output_type": "stream",
     "text": [
      "Enter the Experience Level.Please chose values in 'Internship','Entry level',''Associate','Mid-Senior level','Director','Executive' : Internship\n",
      "Do you wish to enter more options? Please enter Yes or No : Yes\n",
      "Enter the Experience Level.Please chose values in 'Internship','Entry level',''Associate','Mid-Senior level','Director','Executive' : Entry level\n",
      "Do you wish to enter more options? Please enter Yes or No : Yes\n",
      "Enter the Experience Level.Please chose values in 'Internship','Entry level',''Associate','Mid-Senior level','Director','Executive' : Associate\n",
      "Do you wish to enter more options? Please enter Yes or No : No\n"
     ]
    }
   ],
   "source": [
    "Experienced_Level=set()\n",
    "flag='Yes'\n",
    "while(flag=='Yes'):\n",
    "    values = input(\"Enter the Experience Level.Please chose values in 'Internship','Entry level',''Associate','Mid-Senior level','Director','Executive' : \")\n",
    "    Experienced_Level.add(values)\n",
    "    flag=input(\"Do you wish to enter more options? Please enter Yes or No : \")    "
   ]
  },
  {
   "cell_type": "code",
   "execution_count": 82,
   "id": "8aaaa1de",
   "metadata": {},
   "outputs": [
    {
     "name": "stdout",
     "output_type": "stream",
     "text": [
      "{'Internship', 'Associate', 'Entry level'}\n"
     ]
    }
   ],
   "source": [
    "print(Experienced_Level)"
   ]
  },
  {
   "cell_type": "code",
   "execution_count": 83,
   "id": "a21574e4",
   "metadata": {},
   "outputs": [
    {
     "name": "stdout",
     "output_type": "stream",
     "text": [
      "Enter the Job Level.Please chose values in 'Full-time','Part-time','Contract','Temporary','Volunteer','Internship','Other': Full-time\n",
      "Do you wish to enter more options? Please enter Yes or No : Yes\n",
      "Enter the Job Level.Please chose values in 'Full-time','Part-time','Contract','Temporary','Volunteer','Internship','Other': Part-time\n",
      "Do you wish to enter more options? Please enter Yes or No : Yes\n",
      "Enter the Job Level.Please chose values in 'Full-time','Part-time','Contract','Temporary','Volunteer','Internship','Other': Contract\n",
      "Do you wish to enter more options? Please enter Yes or No : No\n"
     ]
    }
   ],
   "source": [
    "Job_Level=[]\n",
    "flag='Yes'\n",
    "while(flag=='Yes'):\n",
    "    values = input(\"Enter the Job Level.Please chose values in 'Full-time','Part-time','Contract','Temporary','Volunteer','Internship','Other': \")\n",
    "    Job_Level.append(values)\n",
    "    flag=input(\"Do you wish to enter more options? Please enter Yes or No : \") "
   ]
  },
  {
   "cell_type": "code",
   "execution_count": 84,
   "id": "a9688bb8",
   "metadata": {
    "scrolled": true
   },
   "outputs": [
    {
     "name": "stdout",
     "output_type": "stream",
     "text": [
      "['Full-time', 'Part-time', 'Contract']\n"
     ]
    }
   ],
   "source": [
    "print(Job_Level)"
   ]
  },
  {
   "cell_type": "code",
   "execution_count": 85,
   "id": "2bbaa9d7",
   "metadata": {},
   "outputs": [
    {
     "name": "stdout",
     "output_type": "stream",
     "text": [
      "Enter the Job Level.Please chose values in 'Hybrid','Remote','On-site': Hybrid\n",
      "Do you wish to enter more options? Please enter Yes or No : Yes\n",
      "Enter the Job Level.Please chose values in 'Hybrid','Remote','On-site': Remote\n",
      "Do you wish to enter more options? Please enter Yes or No : Yes\n",
      "Enter the Job Level.Please chose values in 'Hybrid','Remote','On-site': On-site\n",
      "Do you wish to enter more options? Please enter Yes or No : No\n"
     ]
    }
   ],
   "source": [
    "OnSite_Remote=[]\n",
    "flag='Yes'\n",
    "while(flag=='Yes'):\n",
    "    values = input(\"Enter the Job Level.Please chose values in 'Hybrid','Remote','On-site': \")\n",
    "    OnSite_Remote.append(values)\n",
    "    flag=input(\"Do you wish to enter more options? Please enter Yes or No : \") "
   ]
  },
  {
   "cell_type": "code",
   "execution_count": 86,
   "id": "67b4ea98",
   "metadata": {
    "scrolled": false
   },
   "outputs": [
    {
     "name": "stdout",
     "output_type": "stream",
     "text": [
      "['Hybrid', 'Remote', 'On-site']\n"
     ]
    }
   ],
   "source": [
    "print(OnSite_Remote)"
   ]
  },
  {
   "cell_type": "code",
   "execution_count": 87,
   "id": "8de0b8c7",
   "metadata": {},
   "outputs": [],
   "source": [
    "wait.until(EC.presence_of_element_located((By.XPATH, '//a[@data-test-global-nav-link=\"jobs\"]')))\n",
    "driver.find_element(By.XPATH,'//a[@data-test-global-nav-link=\"jobs\"]').click()\n",
    "\n",
    "wait.until(EC.presence_of_element_located((By.XPATH, \"//input[@aria-label='Search by title, skill, or company']\")))\n",
    "driver.find_element(By.XPATH,\"//input[@aria-label='Search by title, skill, or company']\").send_keys(field_name)\n",
    "\n",
    "wait.until(EC.presence_of_element_located((By.XPATH, \"//input[@aria-label='City, state, or zip code']\")))\n",
    "driver.find_element(By.XPATH,\"//input[@aria-label='City, state, or zip code']\").send_keys(location)\n",
    "\n",
    "wait.until(EC.presence_of_element_located((By.XPATH, \"//button[text()='Search']\")))\n",
    "driver.find_element(By.XPATH,\"//button[text()='Search']\").click()"
   ]
  },
  {
   "cell_type": "code",
   "execution_count": 88,
   "id": "0c035039",
   "metadata": {},
   "outputs": [],
   "source": [
    "wait.until(EC.presence_of_element_located((By.XPATH, \"//button[@aria-label='All filters']\")))\n",
    "driver.find_element(By.XPATH,\"//button[@aria-label='All filters']\").click()"
   ]
  },
  {
   "cell_type": "code",
   "execution_count": 90,
   "id": "a6dc6f76",
   "metadata": {},
   "outputs": [],
   "source": [
    "#Sort_By ='Most recent'\n",
    "if Sort_By=='Most recent':\n",
    "    wait.until(EC.presence_of_element_located((By.XPATH, \"//label[contains(@for,'advanced-filter-sortBy')]//span[text()='Most recent']\")))\n",
    "    driver.find_element(By.XPATH,\"//label[contains(@for,'advanced-filter-sortBy')]//span[text()='Most recent']\").click()  \n",
    "else:\n",
    "    wait.until(EC.presence_of_element_located((By.XPATH, \"//label[contains(@for,'advanced-filter-sortBy')]//span[text()='Most relevant']\")))\n",
    "    driver.find_element(By.XPATH,\"//label[contains(@for,'advanced-filter-sortBy')]//span[text()='Most relevant']\").click()"
   ]
  },
  {
   "cell_type": "code",
   "execution_count": 91,
   "id": "fc79d52f",
   "metadata": {},
   "outputs": [],
   "source": [
    "#Date_Posted ='Past Month'\n",
    "if Date_Posted=='Past Month':\n",
    "    wait.until(EC.presence_of_element_located((By.XPATH, \"//label[contains(@for,'advanced-filter-timePostedRange')]//span[text()='Past Month']\")))\n",
    "    driver.find_element(By.XPATH,\"//label[contains(@for,'advanced-filter-timePostedRange')]//span[text()='Past Month']\").click()\n",
    "elif Date_Posted=='Past Week':\n",
    "    wait.until(EC.presence_of_element_located((By.XPATH, \"//label[contains(@for,'advanced-filter-timePostedRange')]//span[text()='Past Week']\")))\n",
    "    driver.find_element(By.XPATH,\"//label[contains(@for,'advanced-filter-timePostedRange')]//span[text()='Past Week']\").click()\n",
    "elif Date_Posted=='Past 24 hours':\n",
    "    wait.until(EC.presence_of_element_located((By.XPATH, \"//label[contains(@for,'advanced-filter-timePostedRange')]//span[text()='Past 24 hours']\")))\n",
    "    driver.find_element(By.XPATH,\"//label[contains(@for,'advanced-filter-timePostedRange')]//span[text()='Past 24 hours']\").click()    \n",
    "else:\n",
    "    wait.until(EC.presence_of_element_located((By.XPATH, \"//label[contains(@for,'advanced-filter-timePostedRange')]//span[text()='Any Time']\")))\n",
    "    driver.find_element(By.XPATH,\"//label[contains(@for,'advanced-filter-timePostedRange')]//span[text()='Any Time']\").click()"
   ]
  },
  {
   "cell_type": "code",
   "execution_count": 92,
   "id": "12d0cae7",
   "metadata": {},
   "outputs": [],
   "source": [
    "#Experience_Level =['Internship','Entry level','Associate','Mid-Senior level','Director','Executive']\n",
    "for item in Experienced_Level:\n",
    "    if item=='Internship':\n",
    "        wait.until(EC.presence_of_element_located((By.XPATH, \"//label[contains(@for,'advanced-filter-experience')]//span[text()='Internship']\")))\n",
    "        driver.find_element(By.XPATH,\"//label[contains(@for,'advanced-filter-experience')]//span[text()='Internship']\").click()\n",
    "    elif item=='Entry level':\n",
    "        wait.until(EC.presence_of_element_located((By.XPATH, \"//label[contains(@for,'advanced-filter-experience')]//span[text()='Entry level']\")))\n",
    "        driver.find_element(By.XPATH,\"//label[contains(@for,'advanced-filter-experience')]//span[text()='Entry level']\").click()\n",
    "    elif item=='Associate':\n",
    "        wait.until(EC.presence_of_element_located((By.XPATH, \"//label[contains(@for,'advanced-filter-experience')]//span[text()='Associate']\")))\n",
    "        driver.find_element(By.XPATH,\"//label[contains(@for,'advanced-filter-experience')]//span[text()='Associate']\").click()    \n",
    "    elif item=='Mid-Senior level':\n",
    "        wait.until(EC.presence_of_element_located((By.XPATH, \"//label[contains(@for,'advanced-filter-experience')]//span[text()='Mid-Senior level']\")))\n",
    "        driver.find_element(By.XPATH,\"//label[contains(@for,'advanced-filter-experience')]//span[text()='Mid-Senior level']\").click()\n",
    "    elif item=='Director':\n",
    "        wait.until(EC.presence_of_element_located((By.XPATH, \"//label[contains(@for,'advanced-filter-experience')]//span[text()='Director']\")))\n",
    "        driver.find_element(By.XPATH,\"//label[contains(@for,'advanced-filter-experience')]//span[text()='Director']\").click()\n",
    "    else:\n",
    "        wait.until(EC.presence_of_element_located((By.XPATH, \"//label[contains(@for,'advanced-filter-experience')]//span[text()='Executive']\")))\n",
    "        driver.find_element(By.XPATH,\"//label[contains(@for,'advanced-filter-experience')]//span[text()='Executive']\").click()"
   ]
  },
  {
   "cell_type": "code",
   "execution_count": 93,
   "id": "fcbaf35b",
   "metadata": {},
   "outputs": [],
   "source": [
    "#Job_Type =['Full-time','Part-time','Contract','Temporary','Volunteer','Internship','Other']\n",
    "for item in Job_Level:\n",
    "    if item=='Full-time':\n",
    "        wait.until(EC.presence_of_element_located((By.XPATH, \"//label[contains(@for,'advanced-filter-jobType')]//span[text()='Full-time']\")))\n",
    "        driver.find_element(By.XPATH,\"//label[contains(@for,'advanced-filter-jobType')]//span[text()='Full-time']\").click()\n",
    "    elif item=='Part-time':\n",
    "        wait.until(EC.presence_of_element_located((By.XPATH, \"//label[contains(@for,'advanced-filter-jobType')]//span[text()='Part-time']\")))\n",
    "        driver.find_element(By.XPATH,\"//label[contains(@for,'advanced-filter-jobType')]//span[text()='Part-time']\").click()\n",
    "    elif item=='Contract':\n",
    "        wait.until(EC.presence_of_element_located((By.XPATH, \"//label[contains(@for,'advanced-filter-jobType')]//span[text()='Contract']\")))\n",
    "        driver.find_element(By.XPATH,\"//label[contains(@for,'advanced-filter-jobType')]//span[text()='Contract']\").click()    \n",
    "    elif item=='Temporary':\n",
    "        wait.until(EC.presence_of_element_located((By.XPATH, \"//label[contains(@for,'advanced-filter-jobType')]//span[text()='Temporary']\")))\n",
    "        driver.find_element(By.XPATH,\"//label[contains(@for,'advanced-filter-jobType')]//span[text()='Temporary']\").click()\n",
    "    elif item=='Volunteer':\n",
    "        wait.until(EC.presence_of_element_located((By.XPATH, \"//label[contains(@for,'advanced-filter-jobType')]//span[text()='Volunteer']\")))\n",
    "        driver.find_element(By.XPATH,\"//label[contains(@for,'advanced-filter-jobType')]//span[text()='Volunteer']\").click()\n",
    "    elif item=='Internship':\n",
    "        wait.until(EC.presence_of_element_located((By.XPATH, \"//label[contains(@for,'advanced-filter-jobType')]//span[text()='Internship']\")))\n",
    "        driver.find_element(By.XPATH,\"//label[contains(@for,'advanced-filter-jobType')]//span[text()='Internship']\").click()    \n",
    "    else:\n",
    "        wait.until(EC.presence_of_element_located((By.XPATH, \"//label[contains(@for,'advanced-filter-jobType')]//span[text()='Other']\")))\n",
    "        driver.find_element(By.XPATH,\"//label[contains(@for,'advanced-filter-jobType')]//span[text()='Other']\").click()"
   ]
  },
  {
   "cell_type": "code",
   "execution_count": 94,
   "id": "aa092e6e",
   "metadata": {},
   "outputs": [],
   "source": [
    "OnSite_Remote=['Hybrid','Remote','On-site']\n",
    "for item in OnSite_Remote:\n",
    "    if item=='Hybrid':\n",
    "        wait.until(EC.presence_of_element_located((By.XPATH, \"//label[contains(@for,'advanced-filter-workplaceType')]//span[text()='Hybrid']\")))\n",
    "        driver.find_element(By.XPATH,\"//label[contains(@for,'advanced-filter-workplaceType')]//span[text()='Hybrid']\").click()\n",
    "    elif item=='Remote':\n",
    "        wait.until(EC.presence_of_element_located((By.XPATH, \"//label[contains(@for,'advanced-filter-workplaceType')]//span[text()='Remote']\")))\n",
    "        driver.find_element(By.XPATH,\"//label[contains(@for,'advanced-filter-workplaceType')]//span[text()='Remote']\").click()\n",
    "    else:\n",
    "        wait.until(EC.presence_of_element_located((By.XPATH, \"//label[contains(@for,'advanced-filter-workplaceType')]//span[text()='On-site']\")))\n",
    "        driver.find_element(By.XPATH,\"//label[contains(@for,'advanced-filter-workplaceType')]//span[text()='On-site']\").click()"
   ]
  },
  {
   "cell_type": "code",
   "execution_count": 95,
   "id": "9a4071db",
   "metadata": {},
   "outputs": [],
   "source": [
    "driver.find_element(By.XPATH,\"//button[contains(@aria-label,'Apply current filters')]\").click()"
   ]
  },
  {
   "cell_type": "code",
   "execution_count": 96,
   "id": "49150438",
   "metadata": {},
   "outputs": [],
   "source": [
    "Total_Pages=driver.find_elements(By.XPATH,\"//ul[@class='artdeco-pagination__pages artdeco-pagination__pages--number']//span\")\n",
    "end_page=int(Total_Pages[-1].text)"
   ]
  },
  {
   "cell_type": "code",
   "execution_count": 97,
   "id": "6ceeb499",
   "metadata": {},
   "outputs": [],
   "source": [
    "job_page=[]\n",
    "main_url=driver.current_url\n",
    "job_count=0\n",
    "for item in range(0,end_page):\n",
    "    link=main_url+'&start='+str(job_count)\n",
    "    job_count=job_count+25\n",
    "    job_page.append(link)"
   ]
  },
  {
   "cell_type": "code",
   "execution_count": 99,
   "id": "ce050d0a",
   "metadata": {
    "scrolled": true
   },
   "outputs": [
    {
     "name": "stdout",
     "output_type": "stream",
     "text": [
      "25\n",
      "25\n",
      "25\n",
      "0\n",
      "0\n",
      "25\n",
      "25\n",
      "25\n",
      "0\n",
      "0\n",
      "25\n",
      "25\n",
      "25\n",
      "25\n",
      "0\n",
      "0\n",
      "25\n",
      "0\n",
      "0\n",
      "25\n",
      "25\n",
      "0\n",
      "0\n",
      "25\n",
      "0\n",
      "0\n",
      "25\n",
      "25\n",
      "0\n",
      "0\n",
      "25\n",
      "0\n",
      "0\n",
      "25\n",
      "25\n",
      "25\n",
      "25\n",
      "25\n",
      "0\n",
      "0\n"
     ]
    }
   ],
   "source": [
    "index=0\n",
    "links=[]\n",
    "for link in job_page:\n",
    "    driver.get(link)\n",
    "    for prod in range(1,26):\n",
    "        try:\n",
    "            prod_no = \"//ul[contains(@class,'jobs-search-results')]//li[contains(@class,'jobs-search-results')]\"+str([prod])\n",
    "            wait.until(EC.presence_of_element_located((By.XPATH,prod_no)))\n",
    "            driver.find_element(By.XPATH,prod_no).click()\n",
    "        except:\n",
    "            break\n",
    "    total=driver.find_elements(By.XPATH,\"//a[contains(@href,'jobs/view') and contains(@class,'job-card-list__title')]\")\n",
    "    print(len(total))\n",
    "    if len(total)!=0:\n",
    "        for i in range(len(total)):\n",
    "            links.append(total[i].get_attribute('href'))\n",
    "    #for item in range(len(total)):\n",
    "    #    df.loc[index,:]=total[item].get_attribute('href')\n",
    "    #    index=index+1\n"
   ]
  },
  {
   "cell_type": "code",
   "execution_count": 100,
   "id": "2394f554",
   "metadata": {},
   "outputs": [
    {
     "name": "stdout",
     "output_type": "stream",
     "text": [
      "550\n"
     ]
    }
   ],
   "source": [
    "print(len(links))"
   ]
  },
  {
   "cell_type": "code",
   "execution_count": 101,
   "id": "fe5e05d1",
   "metadata": {},
   "outputs": [],
   "source": [
    "column_names = [\"Job_Links\"]\n",
    "df = pd.DataFrame(columns = column_names)"
   ]
  },
  {
   "cell_type": "code",
   "execution_count": 102,
   "id": "67fefecb",
   "metadata": {},
   "outputs": [],
   "source": [
    "index=0\n",
    "for item in range(len(links)):\n",
    "    df.loc[index,:]=links[item]\n",
    "    index=index+1"
   ]
  },
  {
   "cell_type": "code",
   "execution_count": 103,
   "id": "11eaf005",
   "metadata": {
    "scrolled": true
   },
   "outputs": [
    {
     "data": {
      "text/html": [
       "<div>\n",
       "<style scoped>\n",
       "    .dataframe tbody tr th:only-of-type {\n",
       "        vertical-align: middle;\n",
       "    }\n",
       "\n",
       "    .dataframe tbody tr th {\n",
       "        vertical-align: top;\n",
       "    }\n",
       "\n",
       "    .dataframe thead th {\n",
       "        text-align: right;\n",
       "    }\n",
       "</style>\n",
       "<table border=\"1\" class=\"dataframe\">\n",
       "  <thead>\n",
       "    <tr style=\"text-align: right;\">\n",
       "      <th></th>\n",
       "      <th>Job_Links</th>\n",
       "    </tr>\n",
       "  </thead>\n",
       "  <tbody>\n",
       "    <tr>\n",
       "      <th>0</th>\n",
       "      <td>https://www.linkedin.com/jobs/view/2846907423/...</td>\n",
       "    </tr>\n",
       "    <tr>\n",
       "      <th>1</th>\n",
       "      <td>https://www.linkedin.com/jobs/view/2846908301/...</td>\n",
       "    </tr>\n",
       "    <tr>\n",
       "      <th>2</th>\n",
       "      <td>https://www.linkedin.com/jobs/view/2846902991/...</td>\n",
       "    </tr>\n",
       "    <tr>\n",
       "      <th>3</th>\n",
       "      <td>https://www.linkedin.com/jobs/view/2846906447/...</td>\n",
       "    </tr>\n",
       "    <tr>\n",
       "      <th>4</th>\n",
       "      <td>https://www.linkedin.com/jobs/view/2846902990/...</td>\n",
       "    </tr>\n",
       "    <tr>\n",
       "      <th>...</th>\n",
       "      <td>...</td>\n",
       "    </tr>\n",
       "    <tr>\n",
       "      <th>545</th>\n",
       "      <td>https://www.linkedin.com/jobs/view/2843898491/...</td>\n",
       "    </tr>\n",
       "    <tr>\n",
       "      <th>546</th>\n",
       "      <td>https://www.linkedin.com/jobs/view/2847124367/...</td>\n",
       "    </tr>\n",
       "    <tr>\n",
       "      <th>547</th>\n",
       "      <td>https://www.linkedin.com/jobs/view/2850416110/...</td>\n",
       "    </tr>\n",
       "    <tr>\n",
       "      <th>548</th>\n",
       "      <td>https://www.linkedin.com/jobs/view/2849044808/...</td>\n",
       "    </tr>\n",
       "    <tr>\n",
       "      <th>549</th>\n",
       "      <td>https://www.linkedin.com/jobs/view/2847875591/...</td>\n",
       "    </tr>\n",
       "  </tbody>\n",
       "</table>\n",
       "<p>550 rows × 1 columns</p>\n",
       "</div>"
      ],
      "text/plain": [
       "                                             Job_Links\n",
       "0    https://www.linkedin.com/jobs/view/2846907423/...\n",
       "1    https://www.linkedin.com/jobs/view/2846908301/...\n",
       "2    https://www.linkedin.com/jobs/view/2846902991/...\n",
       "3    https://www.linkedin.com/jobs/view/2846906447/...\n",
       "4    https://www.linkedin.com/jobs/view/2846902990/...\n",
       "..                                                 ...\n",
       "545  https://www.linkedin.com/jobs/view/2843898491/...\n",
       "546  https://www.linkedin.com/jobs/view/2847124367/...\n",
       "547  https://www.linkedin.com/jobs/view/2850416110/...\n",
       "548  https://www.linkedin.com/jobs/view/2849044808/...\n",
       "549  https://www.linkedin.com/jobs/view/2847875591/...\n",
       "\n",
       "[550 rows x 1 columns]"
      ]
     },
     "execution_count": 103,
     "metadata": {},
     "output_type": "execute_result"
    }
   ],
   "source": [
    "df"
   ]
  },
  {
   "cell_type": "code",
   "execution_count": null,
   "id": "42e42312",
   "metadata": {},
   "outputs": [],
   "source": [
    "df.to_csv(\"Job_Links.csv\")"
   ]
  },
  {
   "cell_type": "code",
   "execution_count": null,
   "id": "d57be6da",
   "metadata": {},
   "outputs": [],
   "source": [
    "jobs=pd.read_csv('Job_Links.csv')"
   ]
  },
  {
   "cell_type": "code",
   "execution_count": null,
   "id": "4f2eec7c",
   "metadata": {},
   "outputs": [],
   "source": [
    "for item in range(len(jobs)):\n",
    "    driver.get(jobs.loc[item,'Job_Links'])\n",
    "    \n",
    "    try:\n",
    "        wait.until(EC.presence_of_element_located((By.XPATH, \"//h1[contains(@class,'t-bold')]\")))\n",
    "        jobs.loc[item,'Job_title']=driver.find_element(By.XPATH,\"//h1[contains(@class,'t-bold')]\").text\n",
    "    except:\n",
    "        jobs.loc[item,'Job_title']='No Job Title found'\n",
    "              \n",
    "    \n",
    "    try:\n",
    "        wait.until(EC.presence_of_element_located((By.XPATH, \"//span[contains(@class,'bullet')]\")))\n",
    "        jobs.loc[item,'Location']=driver.find_element(By.XPATH,\"//span[contains(@class,'bullet')]\").text\n",
    "    except:\n",
    "        jobs.loc[item,'Location']='No Location details found'\n",
    "    \n",
    "    \n",
    "    try:\n",
    "        wait.until(EC.presence_of_element_located((By.XPATH, \"//span//a[contains(@href,'/company/')]\")))\n",
    "        jobs.loc[item,'Company']=driver.find_element(By.XPATH,\"//span//a[contains(@href,'/company/')]\").text\n",
    "    except:\n",
    "        jobs.loc[item,'Company']='No Company details found'\n",
    "        \n",
    "        \n",
    "    try:\n",
    "        wait.until(EC.presence_of_element_located((By.XPATH, \"//div[contains(@class,'job-insight')][1]//span[1]\")))\n",
    "        jobs.loc[item,'Job_Level']=driver.find_element(By.XPATH,\"//div[contains(@class,'job-insight')][1]//span[1]\").text\n",
    "    except:\n",
    "        jobs.loc[item,'Job_Level']='No Job Level details found'\n",
    "        \n",
    "        \n",
    "    try:\n",
    "        wait.until(EC.presence_of_element_located((By.XPATH, \"//div[contains(@class,'job-insight')]//span[text()='Actively recruiting']\")))\n",
    "        jobs.loc[item,'JobRecruit_Status']=driver.find_element(By.XPATH,\"//div[contains(@class,'job-insight')]//span[text()='Actively recruiting']\").text\n",
    "    except:\n",
    "        jobs.loc[item,'JobRecruit_Status']='Not Recruiting Actively'\n",
    "        \n",
    "        \n",
    "    try:\n",
    "        wait.until(EC.presence_of_element_located((By.XPATH, \"//p[contains(@class,'jobs-poster__name')]\")))\n",
    "        jobs.loc[item,'Job_Recruiter']=driver.find_element(By.XPATH,\"//p[contains(@class,'jobs-poster__name')]\").text\n",
    "    except:\n",
    "        jobs.loc[item,'Job_Recruiter']='No Recruiter details found'"
   ]
  },
  {
   "cell_type": "code",
   "execution_count": null,
   "id": "1c51f414",
   "metadata": {},
   "outputs": [],
   "source": [
    "jobs.to_csv(\"Job_Details.csv\")"
   ]
  },
  {
   "cell_type": "code",
   "execution_count": null,
   "id": "65237f08",
   "metadata": {},
   "outputs": [],
   "source": [
    "for item in range(1,end_page):\n",
    "    page='Page '+str(item)\n",
    "    print(page)\n",
    "    staleElement = True\n",
    "    while(staleElement):\n",
    "        try:\n",
    "            driver.find_element(By.XPATH,\"//ul[@class='artdeco-pagination__pages artdeco-pagination__pages--number']//button[@aria-label='\"+page+\"']\").click()\n",
    "            staleElement = False\n",
    "        except:\n",
    "            staleElement = True\n",
    "        time.sleep(3)\n",
    "        if len(driver.find_elements(By.XPATH,\"//small\"))!=0:\n",
    "            for prod in range(1,26):\n",
    "                try:\n",
    "                    prod_no = \"//ul[contains(@class,'jobs-search-results')]//li[contains(@class,'jobs-search-results')]\"+str([prod])\n",
    "                    prod_link = prod_no+\"//a[contains(@href,'jobs/view') and contains(@class,'job-card-list__title')]\"\n",
    "                    wait.until(EC.presence_of_element_located((By.XPATH,prod_no)))\n",
    "                    driver.find_element(By.XPATH,prod_no).click()\n",
    "                    total=driver.find_elements(By.XPATH,\"//a[contains(@href,'jobs/view') and contains(@class,'job-card-list__title')]\")\n",
    "                except:\n",
    "                    break\n",
    "        else:\n",
    "            print('No jobs found for the filter')\n",
    "        print(len(total))"
   ]
  },
  {
   "cell_type": "code",
   "execution_count": 54,
   "id": "8e3e8eca",
   "metadata": {},
   "outputs": [],
   "source": [
    "i=0\n",
    "if len(driver.find_elements(By.XPATH,\"//small\"))!=0:\n",
    "    for prod in range(1,26):\n",
    "        try:\n",
    "            prod_no = \"//ul[contains(@class,'jobs-search-results')]//li[contains(@class,'jobs-search-results')]\"+str([prod])\n",
    "            prod_link = prod_no+\"//a[contains(@href,'jobs/view') and contains(@class,'job-card-list__title')]\"\n",
    "            wait.until(EC.presence_of_element_located((By.XPATH,prod_no)))\n",
    "            driver.find_element(By.XPATH,prod_no).click()\n",
    "            i=i+1\n",
    "        except:\n",
    "            break\n",
    "else:\n",
    "    print('No jobs found for the filter')"
   ]
  }
 ],
 "metadata": {
  "kernelspec": {
   "display_name": "Python 3",
   "language": "python",
   "name": "python3"
  },
  "language_info": {
   "codemirror_mode": {
    "name": "ipython",
    "version": 3
   },
   "file_extension": ".py",
   "mimetype": "text/x-python",
   "name": "python",
   "nbconvert_exporter": "python",
   "pygments_lexer": "ipython3",
   "version": "3.8.8"
  }
 },
 "nbformat": 4,
 "nbformat_minor": 5
}

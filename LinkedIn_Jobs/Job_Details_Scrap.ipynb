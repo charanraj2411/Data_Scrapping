{
 "cells": [
  {
   "cell_type": "code",
   "execution_count": 1,
   "id": "5c193778",
   "metadata": {},
   "outputs": [],
   "source": [
    "import pandas as pd\n",
    "import re\n",
    "from selenium import webdriver\n",
    "from selenium.webdriver.common.keys import Keys\n",
    "from selenium.webdriver.support.ui import WebDriverWait\n",
    "from selenium.webdriver.common.by import By\n",
    "from selenium.webdriver.support import expected_conditions as EC\n",
    "import time\n",
    "from bs4 import BeautifulSoup"
   ]
  },
  {
   "cell_type": "code",
   "execution_count": 2,
   "id": "579c6d3e",
   "metadata": {},
   "outputs": [
    {
     "name": "stderr",
     "output_type": "stream",
     "text": [
      "<ipython-input-2-db71e2e376f2>:1: DeprecationWarning: executable_path has been deprecated, please pass in a Service object\n",
      "  driver= webdriver.Chrome(\"C:/Users/DELL/Downloads/chromedriver_win32/chromedriver.exe\")\n"
     ]
    }
   ],
   "source": [
    "driver= webdriver.Chrome(\"C:/Users/DELL/Downloads/chromedriver_win32/chromedriver.exe\")\n",
    "driver.maximize_window()\n",
    "driver.implicitly_wait(20)\n",
    "driver.get(\"http://www.linkedin.com\")"
   ]
  },
  {
   "cell_type": "code",
   "execution_count": 3,
   "id": "c6220422",
   "metadata": {},
   "outputs": [],
   "source": [
    "wait=WebDriverWait(driver, 2)\n",
    "\n",
    "wait.until(EC.presence_of_element_located((By.XPATH, \"//a[@class='nav__button-secondary']\")))\n",
    "driver.find_element(By.XPATH,'//a[@class=\"nav__button-secondary\"]').click()\n",
    "\n",
    "wait.until(EC.presence_of_element_located((By.XPATH, '//*[@id=\"username\"]')))\n",
    "driver.find_element(By.XPATH,'//*[@id=\"username\"]').send_keys(\"charanrajshetty1993@gmail.com\")\n",
    "\n",
    "wait.until(EC.presence_of_element_located((By.XPATH, '//*[@id=\"password\"]')))\n",
    "driver.find_element(By.XPATH,'//*[@id=\"password\"]').send_keys(\"Charan@1993\")\n",
    "\n",
    "wait.until(EC.presence_of_element_located((By.XPATH, '//button[text()=\"Sign in\"]')))\n",
    "driver.find_element(By.XPATH,'//button[text()=\"Sign in\"]').click()"
   ]
  },
  {
   "cell_type": "code",
   "execution_count": 13,
   "id": "27424474",
   "metadata": {},
   "outputs": [],
   "source": [
    "driver.get(\"https://www.linkedin.com/jobs/view/2838240739/?alternateChannel=search&refId=j2okeWSJCIkO5B6PnQYGjw%3D%3D&trackingId=K%2FSM37bKlVYOPVc2dOj5%2Bw%3D%3D&trk=d_flagship3_search_srp_jobs\")"
   ]
  },
  {
   "cell_type": "code",
   "execution_count": 14,
   "id": "3a429ec7",
   "metadata": {},
   "outputs": [
    {
     "name": "stdout",
     "output_type": "stream",
     "text": [
      "Data Scientist\n"
     ]
    }
   ],
   "source": [
    "## Get the job title\n",
    "try:\n",
    "    wait.until(EC.presence_of_element_located((By.XPATH, \"//h1[contains(@class,'t-bold')]\")))\n",
    "    Job_title=driver.find_element(By.XPATH,\"//h1[contains(@class,'t-bold')]\").text\n",
    "    print(Job_title)\n",
    "except:\n",
    "    print('No Job Title found')"
   ]
  },
  {
   "cell_type": "code",
   "execution_count": 15,
   "id": "23d94973",
   "metadata": {},
   "outputs": [
    {
     "name": "stdout",
     "output_type": "stream",
     "text": [
      "India\n"
     ]
    }
   ],
   "source": [
    "## Get the Location\n",
    "try:\n",
    "    wait.until(EC.presence_of_element_located((By.XPATH, \"//span[contains(@class,'bullet')]\")))\n",
    "    Location=driver.find_element(By.XPATH,\"//span[contains(@class,'bullet')]\").text\n",
    "    print(Location)\n",
    "except:\n",
    "    print('No Location details found')"
   ]
  },
  {
   "cell_type": "code",
   "execution_count": 16,
   "id": "dbf9436a",
   "metadata": {},
   "outputs": [
    {
     "name": "stdout",
     "output_type": "stream",
     "text": [
      "ACS PVT. LTD.\n"
     ]
    }
   ],
   "source": [
    "## Get the Company Name\n",
    "try:\n",
    "    wait.until(EC.presence_of_element_located((By.XPATH, \"//span//a[contains(@href,'/company/')]\")))\n",
    "    Company=driver.find_element(By.XPATH,\"//span//a[contains(@href,'/company/')]\").text\n",
    "    print(Company)\n",
    "except:\n",
    "    print('No Company details found')"
   ]
  },
  {
   "cell_type": "code",
   "execution_count": 17,
   "id": "a0e37c51",
   "metadata": {},
   "outputs": [
    {
     "name": "stdout",
     "output_type": "stream",
     "text": [
      "Full-time\n"
     ]
    }
   ],
   "source": [
    "## Get the Job Level\n",
    "try:\n",
    "    wait.until(EC.presence_of_element_located((By.XPATH, \"//div[contains(@class,'job-insight')][1]//span[1]\")))\n",
    "    Job_Level=driver.find_element(By.XPATH,\"//div[contains(@class,'job-insight')][1]//span[1]\").text\n",
    "    print(Job_Level)\n",
    "except:\n",
    "    print('No Job Level details found')"
   ]
  },
  {
   "cell_type": "code",
   "execution_count": 18,
   "id": "6d8d964a",
   "metadata": {},
   "outputs": [
    {
     "name": "stdout",
     "output_type": "stream",
     "text": [
      "Actively recruiting\n"
     ]
    }
   ],
   "source": [
    "## Get the Recruit Status\n",
    "try:\n",
    "    wait.until(EC.presence_of_element_located((By.XPATH, \"//div[contains(@class,'job-insight')]//span[text()='Actively recruiting']\")))\n",
    "    JobRecruit_Status=driver.find_element(By.XPATH,\"//div[contains(@class,'job-insight')]//span[text()='Actively recruiting']\").text\n",
    "    print(JobRecruit_Status)\n",
    "except:\n",
    "    print('No Job Recuit Details found')"
   ]
  },
  {
   "cell_type": "code",
   "execution_count": 19,
   "id": "952bac6b",
   "metadata": {},
   "outputs": [
    {
     "name": "stdout",
     "output_type": "stream",
     "text": [
      "Akansha Mittal\n"
     ]
    }
   ],
   "source": [
    "## Get the Job Poster \n",
    "try:\n",
    "    wait.until(EC.presence_of_element_located((By.XPATH, \"//p[contains(@class,'jobs-poster__name')]\")))\n",
    "    JobPoster_Details=driver.find_element(By.XPATH,\"//p[contains(@class,'jobs-poster__name')]\").text\n",
    "    print(JobPoster_Details)\n",
    "except:\n",
    "    print('No Recruiter details found')"
   ]
  },
  {
   "cell_type": "code",
   "execution_count": 25,
   "id": "7235b674",
   "metadata": {},
   "outputs": [],
   "source": [
    "## expand the See More button and locate Email ID\n",
    "try:\n",
    "    wait.until(EC.presence_of_element_located((By.XPATH, \"//button[@aria-label='Click to see more description']//span[@class='artdeco-button__text']\")))\n",
    "    driver.find_element(By.XPATH,\"//button[@aria-label='Click to see more description']//span[@class='artdeco-button__text']\").click()\n",
    "except:\n",
    "    print('No See More details')"
   ]
  },
  {
   "cell_type": "code",
   "execution_count": null,
   "id": "d7f40cad",
   "metadata": {},
   "outputs": [],
   "source": []
  }
 ],
 "metadata": {
  "kernelspec": {
   "display_name": "Python 3",
   "language": "python",
   "name": "python3"
  },
  "language_info": {
   "codemirror_mode": {
    "name": "ipython",
    "version": 3
   },
   "file_extension": ".py",
   "mimetype": "text/x-python",
   "name": "python",
   "nbconvert_exporter": "python",
   "pygments_lexer": "ipython3",
   "version": "3.8.8"
  }
 },
 "nbformat": 4,
 "nbformat_minor": 5
}

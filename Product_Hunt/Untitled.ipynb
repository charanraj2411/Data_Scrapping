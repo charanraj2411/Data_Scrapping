{
 "cells": [
  {
   "cell_type": "code",
   "execution_count": 70,
   "id": "de95d489",
   "metadata": {},
   "outputs": [],
   "source": [
    "from selenium import webdriver\n",
    "from selenium.webdriver.chrome.service import Service\n",
    "from selenium.webdriver.common.by import By\n",
    "from selenium.webdriver.support.ui import WebDriverWait\n",
    "from selenium.webdriver.support import expected_conditions as EC\n",
    "from List_Products_page import Find_Lst_Products\n",
    "from List_Products_page_2 import Find_Lst_Products2\n",
    "from Scrap_details import Prod_Details\n",
    "import pandas as pd"
   ]
  },
  {
   "cell_type": "code",
   "execution_count": 71,
   "id": "c2051242",
   "metadata": {},
   "outputs": [],
   "source": [
    "column_names = [\"ID\",\"Product_Name\", \"Total_votes\", \"Website_Link\",\"Total_Reviews\",\"Review_Score\",\"Hunters\",\"Founders\",\"Industry_Type\"]\n",
    "df = pd.DataFrame(columns = column_names)"
   ]
  },
  {
   "cell_type": "code",
   "execution_count": 72,
   "id": "7d00c49e",
   "metadata": {},
   "outputs": [],
   "source": [
    "df.to_csv('my_csv.csv', mode='a', header=True,index=False)"
   ]
  },
  {
   "cell_type": "code",
   "execution_count": 73,
   "id": "e8037554",
   "metadata": {},
   "outputs": [],
   "source": [
    "df.loc[0,\"ID\"]='1'\n",
    "df.loc[0,\"Product_Name\"]='My Name'\n",
    "df.loc[0,\"Total_votes\"]='235'\n",
    "df.loc[0,\"Website_Link\"]='http1'\n",
    "df.loc[0,\"Total_Reviews\"]='34'\n",
    "df.loc[0,\"Review_Score\"]='3.5'\n",
    "df.at[0,'Hunters']=['1','2','3']\n",
    "df.loc[0,\"Founders\"]=['a','b','c']\n",
    "df.loc[0,\"Industry_Type\"]=['aa','bb','cc']"
   ]
  },
  {
   "cell_type": "code",
   "execution_count": 74,
   "id": "838d748a",
   "metadata": {},
   "outputs": [
    {
     "data": {
      "text/html": [
       "<div>\n",
       "<style scoped>\n",
       "    .dataframe tbody tr th:only-of-type {\n",
       "        vertical-align: middle;\n",
       "    }\n",
       "\n",
       "    .dataframe tbody tr th {\n",
       "        vertical-align: top;\n",
       "    }\n",
       "\n",
       "    .dataframe thead th {\n",
       "        text-align: right;\n",
       "    }\n",
       "</style>\n",
       "<table border=\"1\" class=\"dataframe\">\n",
       "  <thead>\n",
       "    <tr style=\"text-align: right;\">\n",
       "      <th></th>\n",
       "      <th>ID</th>\n",
       "      <th>Product_Name</th>\n",
       "      <th>Total_votes</th>\n",
       "      <th>Website_Link</th>\n",
       "      <th>Total_Reviews</th>\n",
       "      <th>Review_Score</th>\n",
       "      <th>Hunters</th>\n",
       "      <th>Founders</th>\n",
       "      <th>Industry_Type</th>\n",
       "    </tr>\n",
       "  </thead>\n",
       "  <tbody>\n",
       "    <tr>\n",
       "      <th>0</th>\n",
       "      <td>1</td>\n",
       "      <td>My Name</td>\n",
       "      <td>235</td>\n",
       "      <td>http1</td>\n",
       "      <td>34</td>\n",
       "      <td>3.5</td>\n",
       "      <td>[1, 2, 3]</td>\n",
       "      <td>[a, b, c]</td>\n",
       "      <td>[aa, bb, cc]</td>\n",
       "    </tr>\n",
       "  </tbody>\n",
       "</table>\n",
       "</div>"
      ],
      "text/plain": [
       "  ID Product_Name Total_votes Website_Link Total_Reviews Review_Score  \\\n",
       "0  1      My Name         235        http1            34          3.5   \n",
       "\n",
       "     Hunters   Founders Industry_Type  \n",
       "0  [1, 2, 3]  [a, b, c]  [aa, bb, cc]  "
      ]
     },
     "execution_count": 74,
     "metadata": {},
     "output_type": "execute_result"
    }
   ],
   "source": [
    "df"
   ]
  },
  {
   "cell_type": "code",
   "execution_count": 75,
   "id": "780b5436",
   "metadata": {},
   "outputs": [],
   "source": [
    "df.to_csv('my_csv.csv',index=False)"
   ]
  },
  {
   "cell_type": "code",
   "execution_count": 76,
   "id": "287b832a",
   "metadata": {},
   "outputs": [],
   "source": [
    "df.loc[1,\"ID\"]='2'\n",
    "df.loc[1,\"Product_Name\"]='My Name'\n",
    "df.loc[1,\"Total_votes\"]='235'\n",
    "df.loc[1,\"Website_Link\"]='http1'\n",
    "df.loc[1,\"Total_Reviews\"]='34'\n",
    "df.loc[1,\"Review_Score\"]='3.5'\n",
    "df.at[1,'Hunters']=['1','2','3']\n",
    "df.loc[1,\"Founders\"]=['a','b','c']\n",
    "df.loc[1,\"Industry_Type\"]=['aa','bb','cc']"
   ]
  },
  {
   "cell_type": "code",
   "execution_count": 77,
   "id": "9060b7ab",
   "metadata": {},
   "outputs": [
    {
     "data": {
      "text/html": [
       "<div>\n",
       "<style scoped>\n",
       "    .dataframe tbody tr th:only-of-type {\n",
       "        vertical-align: middle;\n",
       "    }\n",
       "\n",
       "    .dataframe tbody tr th {\n",
       "        vertical-align: top;\n",
       "    }\n",
       "\n",
       "    .dataframe thead th {\n",
       "        text-align: right;\n",
       "    }\n",
       "</style>\n",
       "<table border=\"1\" class=\"dataframe\">\n",
       "  <thead>\n",
       "    <tr style=\"text-align: right;\">\n",
       "      <th></th>\n",
       "      <th>ID</th>\n",
       "      <th>Product_Name</th>\n",
       "      <th>Total_votes</th>\n",
       "      <th>Website_Link</th>\n",
       "      <th>Total_Reviews</th>\n",
       "      <th>Review_Score</th>\n",
       "      <th>Hunters</th>\n",
       "      <th>Founders</th>\n",
       "      <th>Industry_Type</th>\n",
       "    </tr>\n",
       "  </thead>\n",
       "  <tbody>\n",
       "    <tr>\n",
       "      <th>0</th>\n",
       "      <td>1</td>\n",
       "      <td>My Name</td>\n",
       "      <td>235</td>\n",
       "      <td>http1</td>\n",
       "      <td>34</td>\n",
       "      <td>3.5</td>\n",
       "      <td>[1, 2, 3]</td>\n",
       "      <td>[a, b, c]</td>\n",
       "      <td>[aa, bb, cc]</td>\n",
       "    </tr>\n",
       "    <tr>\n",
       "      <th>1</th>\n",
       "      <td>2</td>\n",
       "      <td>My Name</td>\n",
       "      <td>235</td>\n",
       "      <td>http1</td>\n",
       "      <td>34</td>\n",
       "      <td>3.5</td>\n",
       "      <td>[1, 2, 3]</td>\n",
       "      <td>[a, b, c]</td>\n",
       "      <td>[aa, bb, cc]</td>\n",
       "    </tr>\n",
       "  </tbody>\n",
       "</table>\n",
       "</div>"
      ],
      "text/plain": [
       "  ID Product_Name Total_votes Website_Link Total_Reviews Review_Score  \\\n",
       "0  1      My Name         235        http1            34          3.5   \n",
       "1  2      My Name         235        http1            34          3.5   \n",
       "\n",
       "     Hunters   Founders Industry_Type  \n",
       "0  [1, 2, 3]  [a, b, c]  [aa, bb, cc]  \n",
       "1  [1, 2, 3]  [a, b, c]  [aa, bb, cc]  "
      ]
     },
     "execution_count": 77,
     "metadata": {},
     "output_type": "execute_result"
    }
   ],
   "source": [
    "df"
   ]
  },
  {
   "cell_type": "code",
   "execution_count": 78,
   "id": "a5af1c81",
   "metadata": {},
   "outputs": [],
   "source": [
    "df.to_csv('my_csv.csv',index=False)"
   ]
  },
  {
   "cell_type": "code",
   "execution_count": 79,
   "id": "9376488e",
   "metadata": {},
   "outputs": [],
   "source": [
    "df.loc[2,\"ID\"]='3'\n",
    "df.loc[2,\"Product_Name\"]='My Name'\n",
    "df.loc[2,\"Total_votes\"]='235'\n",
    "df.loc[2,\"Website_Link\"]='http1'\n",
    "df.loc[2,\"Total_Reviews\"]='34'\n",
    "df.loc[2,\"Review_Score\"]='3.5'\n",
    "df.at[2,'Hunters']=['1','2','3']\n",
    "df.loc[2,\"Founders\"]=['a','b','c']\n",
    "df.loc[2,\"Industry_Type\"]=['aa','bb','cc']"
   ]
  },
  {
   "cell_type": "code",
   "execution_count": 80,
   "id": "7744f06b",
   "metadata": {},
   "outputs": [
    {
     "data": {
      "text/html": [
       "<div>\n",
       "<style scoped>\n",
       "    .dataframe tbody tr th:only-of-type {\n",
       "        vertical-align: middle;\n",
       "    }\n",
       "\n",
       "    .dataframe tbody tr th {\n",
       "        vertical-align: top;\n",
       "    }\n",
       "\n",
       "    .dataframe thead th {\n",
       "        text-align: right;\n",
       "    }\n",
       "</style>\n",
       "<table border=\"1\" class=\"dataframe\">\n",
       "  <thead>\n",
       "    <tr style=\"text-align: right;\">\n",
       "      <th></th>\n",
       "      <th>ID</th>\n",
       "      <th>Product_Name</th>\n",
       "      <th>Total_votes</th>\n",
       "      <th>Website_Link</th>\n",
       "      <th>Total_Reviews</th>\n",
       "      <th>Review_Score</th>\n",
       "      <th>Hunters</th>\n",
       "      <th>Founders</th>\n",
       "      <th>Industry_Type</th>\n",
       "    </tr>\n",
       "  </thead>\n",
       "  <tbody>\n",
       "    <tr>\n",
       "      <th>0</th>\n",
       "      <td>1</td>\n",
       "      <td>My Name</td>\n",
       "      <td>235</td>\n",
       "      <td>http1</td>\n",
       "      <td>34</td>\n",
       "      <td>3.5</td>\n",
       "      <td>[1, 2, 3]</td>\n",
       "      <td>[a, b, c]</td>\n",
       "      <td>[aa, bb, cc]</td>\n",
       "    </tr>\n",
       "    <tr>\n",
       "      <th>1</th>\n",
       "      <td>2</td>\n",
       "      <td>My Name</td>\n",
       "      <td>235</td>\n",
       "      <td>http1</td>\n",
       "      <td>34</td>\n",
       "      <td>3.5</td>\n",
       "      <td>[1, 2, 3]</td>\n",
       "      <td>[a, b, c]</td>\n",
       "      <td>[aa, bb, cc]</td>\n",
       "    </tr>\n",
       "    <tr>\n",
       "      <th>2</th>\n",
       "      <td>3</td>\n",
       "      <td>My Name</td>\n",
       "      <td>235</td>\n",
       "      <td>http1</td>\n",
       "      <td>34</td>\n",
       "      <td>3.5</td>\n",
       "      <td>[1, 2, 3]</td>\n",
       "      <td>[a, b, c]</td>\n",
       "      <td>[aa, bb, cc]</td>\n",
       "    </tr>\n",
       "  </tbody>\n",
       "</table>\n",
       "</div>"
      ],
      "text/plain": [
       "  ID Product_Name Total_votes Website_Link Total_Reviews Review_Score  \\\n",
       "0  1      My Name         235        http1            34          3.5   \n",
       "1  2      My Name         235        http1            34          3.5   \n",
       "2  3      My Name         235        http1            34          3.5   \n",
       "\n",
       "     Hunters   Founders Industry_Type  \n",
       "0  [1, 2, 3]  [a, b, c]  [aa, bb, cc]  \n",
       "1  [1, 2, 3]  [a, b, c]  [aa, bb, cc]  \n",
       "2  [1, 2, 3]  [a, b, c]  [aa, bb, cc]  "
      ]
     },
     "execution_count": 80,
     "metadata": {},
     "output_type": "execute_result"
    }
   ],
   "source": [
    "df"
   ]
  },
  {
   "cell_type": "code",
   "execution_count": 81,
   "id": "3cfea4a5",
   "metadata": {},
   "outputs": [],
   "source": [
    "df.to_csv('my_csv.csv',index=False)"
   ]
  },
  {
   "cell_type": "code",
   "execution_count": null,
   "id": "66661d95",
   "metadata": {},
   "outputs": [],
   "source": []
  }
 ],
 "metadata": {
  "kernelspec": {
   "display_name": "Python 3",
   "language": "python",
   "name": "python3"
  },
  "language_info": {
   "codemirror_mode": {
    "name": "ipython",
    "version": 3
   },
   "file_extension": ".py",
   "mimetype": "text/x-python",
   "name": "python",
   "nbconvert_exporter": "python",
   "pygments_lexer": "ipython3",
   "version": "3.8.8"
  }
 },
 "nbformat": 4,
 "nbformat_minor": 5
}

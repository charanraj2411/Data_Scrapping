{
 "cells": [
  {
   "cell_type": "code",
   "execution_count": 101,
   "id": "438d73f4",
   "metadata": {},
   "outputs": [],
   "source": [
    "from selenium import webdriver\n",
    "from selenium.webdriver.chrome.service import Service\n",
    "from selenium.webdriver.common.by import By\n",
    "from selenium.webdriver.support.ui import WebDriverWait\n",
    "from selenium.webdriver.support import expected_conditions as EC\n",
    "import pandas as pd"
   ]
  },
  {
   "cell_type": "code",
   "execution_count": 102,
   "id": "9918eb26",
   "metadata": {},
   "outputs": [],
   "source": [
    "column_names = [\"ID\",\"Product_Name\", \"Total_votes\", \"Website_Link\",\"Total_Reviews\",\"Review_Score\",\"Hunters\",\"Founders\",\"Industry_Type\"]\n",
    "df = pd.DataFrame(columns = column_names)"
   ]
  },
  {
   "cell_type": "code",
   "execution_count": 103,
   "id": "fe83ccf7",
   "metadata": {},
   "outputs": [],
   "source": [
    "#df.to_csv('Prod_data.csv', mode='a', header=True,index=False)"
   ]
  },
  {
   "cell_type": "code",
   "execution_count": 104,
   "id": "0fc06b13",
   "metadata": {},
   "outputs": [],
   "source": [
    "service = Service(\"C:/Users/DELL/Downloads/chromedriver_win32/chromedriver.exe\")\n",
    "driver = webdriver.Chrome(service=service)"
   ]
  },
  {
   "cell_type": "code",
   "execution_count": 105,
   "id": "16e5c6fe",
   "metadata": {},
   "outputs": [],
   "source": [
    "wait=WebDriverWait(driver, 5)"
   ]
  },
  {
   "cell_type": "code",
   "execution_count": 106,
   "id": "b54e5f9e",
   "metadata": {},
   "outputs": [],
   "source": [
    "driver.maximize_window()\n",
    "driver.implicitly_wait(20)\n",
    "\n",
    "driver.get(\"https://www.producthunt.com/\")"
   ]
  },
  {
   "cell_type": "code",
   "execution_count": null,
   "id": "572198ff",
   "metadata": {
    "scrolled": true
   },
   "outputs": [],
   "source": [
    "lst_products_links=[]\n",
    "for section in range(0,80):\n",
    "    container = 'homepage-section-'+str(section)\n",
    "    view_product = driver.find_element(By.XPATH,\"//div[@data-test='\"+container+\"']//button[text()='View all products']\")\n",
    "    driver.execute_script(\"arguments[0].scrollIntoView();\", view_product)\n",
    "    driver.execute_script(\"arguments[0].click();\", view_product)\n",
    "    show_less = driver.find_element(By.XPATH,\"//div[@data-test='\"+container+\"']//button[text()='Show less']\")\n",
    "    driver.execute_script(\"arguments[0].scrollIntoView();\", show_less)\n",
    "    lst_products_page = driver.find_elements(By.XPATH,\"//div[@data-test='\"+container+\"']//a[contains(@data-test,'tagline')]\")\n",
    "    print(len(lst_products_page))\n",
    "    for item in lst_products_page:\n",
    "        lst_products_links.append(item.get_attribute('href'))\n",
    "print(len(lst_products_links))"
   ]
  },
  {
   "cell_type": "code",
   "execution_count": 107,
   "id": "09152c34",
   "metadata": {
    "scrolled": true
   },
   "outputs": [
    {
     "name": "stdout",
     "output_type": "stream",
     "text": [
      "Product Name  Uniify\n",
      "Product Name  Ecohilo\n",
      "Product Name  Metups\n",
      "Product Name  TalkNow\n",
      "Product Name  Pensso\n",
      "Product Name  Bootstrappers\n",
      "Product Name  Multiverse\n",
      "Product Name  Pixelied\n",
      "Product Name  Stately Viz\n",
      "Product Name  Warmer.ai\n",
      "Product Name  GuideDoc 2.0\n",
      "Product Name  Smart Ads by Unbounce\n",
      "Product Name  Laconic\n",
      "Product Name  Hightouch Audiences\n",
      "Product Name  Commont\n",
      "Product Name  My Crypto Profile\n",
      "Product Name  Icon Horse\n",
      "Product Name  Walden Directory\n",
      "Product Name  Sticker Doodle\n",
      "Product Name  Noteli\n",
      "Product Name  Bits 2.0 by Creative Tim\n",
      "Product Name  Oka Todo\n",
      "Product Name  LaserShow Video\n",
      "Product Name  Dataherald by HiGeorge\n",
      "Product Name  WellPaper\n",
      "Product Name  GUN 2.0\n",
      "Product Name  WorkPatterns for Zoom Apps\n",
      "Product Name  Tweet Cards\n",
      "Product Name  UI Copy plugin for XD\n",
      "Product Name  Fart Sender\n",
      "Product Name  HiHello Vaccine QR Code\n",
      "Product Name  temper\n",
      "Product Name  Dark Mode For Medium\n",
      "Product Name  Ponder\n",
      "Product Name  AppSecEngineer\n",
      "Product Name  Cevoid\n",
      "Product Name  Team Alignment\n",
      "Product Name  LaraNx\n",
      "Product Name  eWorkspace\n",
      "Product Name  Howdy\n",
      "Product Name  bit16z\n",
      "Product Name  timestic\n",
      "Product Name  Anxiety Calculator\n",
      "Product Name  Cardiac Coherence\n",
      "Product Name  Maillocals\n",
      "Product Name  iPaperApp 1.0\n",
      "Product Name  The Cool Todo App\n",
      "Product Name  Xenoball\n",
      "Product Name  Quadropoly 3D\n",
      "Product Name  Gibson\n",
      "Product Name  Fluya\n",
      "Product Name  MMOBomb 4.0\n",
      "Product Name  TXTrivia\n",
      "Product Name  SocialCall\n",
      "Product Name  Storytale 2\n",
      "Product Name  Microns\n",
      "Product Name  Swordfish AI\n",
      "Product Name  Blurry\n",
      "Product Name  SmallDevTools\n",
      "Product Name  Crypto Companies\n",
      "Product Name  UserVitals\n",
      "Product Name  Mosaic by @rcopstein\n",
      "Product Name  Yofte E-commerce UI Kit\n",
      "Product Name  Computer Engineering for Babies\n",
      "Product Name  SupportBell\n",
      "Product Name  DigitalPress\n",
      "Product Name  Note Garden\n",
      "Product Name  Dime\n",
      "Product Name  Badaso\n",
      "Product Name  MiniKey\n",
      "Product Name  1UpBlitz\n",
      "Product Name  Minimal Startpage\n",
      "Product Name  Speakeroo\n",
      "Product Name  Sitch\n",
      "Product Name  ThumbGen.io\n",
      "Product Name  Scenes by Avalon\n",
      "Product Name  Active Me\n",
      "Product Name  Ramble\n",
      "Product Name  NFTDetect\n",
      "Product Name  Submark\n",
      "Product Name  Ussembl\n",
      "Product Name  Enny\n",
      "Product Name  ezProfile\n",
      "Product Name  Bitcombine\n"
     ]
    },
    {
     "ename": "NoSuchWindowException",
     "evalue": "Message: no such window: target window already closed\nfrom unknown error: web view not found\n  (Session info: chrome=95.0.4638.69)\nStacktrace:\nBacktrace:\n\tOrdinal0 [0x00593AB3+2505395]\n\tOrdinal0 [0x0052AE41+2076225]\n\tOrdinal0 [0x00432498+1057944]\n\tOrdinal0 [0x0041BE96+966294]\n\tOrdinal0 [0x00477F19+1343257]\n\tOrdinal0 [0x004848C2+1394882]\n\tOrdinal0 [0x004758BB+1333435]\n\tOrdinal0 [0x004523E4+1188836]\n\tOrdinal0 [0x0045323F+1192511]\n\tGetHandleVerifier [0x0071CB36+1554566]\n\tGetHandleVerifier [0x007C4A0C+2242396]\n\tGetHandleVerifier [0x00620E0B+523099]\n\tGetHandleVerifier [0x0061FEB0+519168]\n\tOrdinal0 [0x005302FD+2097917]\n\tOrdinal0 [0x00534388+2114440]\n\tOrdinal0 [0x005344C2+2114754]\n\tOrdinal0 [0x0053E041+2154561]\n\tBaseThreadInitThunk [0x7648FA29+25]\n\tRtlGetAppContainerNamedObjectPath [0x77037A9E+286]\n\tRtlGetAppContainerNamedObjectPath [0x77037A6E+238]\n",
     "output_type": "error",
     "traceback": [
      "\u001b[1;31m---------------------------------------------------------------------------\u001b[0m",
      "\u001b[1;31mNoSuchWindowException\u001b[0m                     Traceback (most recent call last)",
      "\u001b[1;32m<ipython-input-107-f3e1dbf03967>\u001b[0m in \u001b[0;36m<module>\u001b[1;34m\u001b[0m\n\u001b[0;32m      2\u001b[0m \u001b[0mID\u001b[0m\u001b[1;33m=\u001b[0m\u001b[1;36m2437\u001b[0m\u001b[1;33m\u001b[0m\u001b[1;33m\u001b[0m\u001b[0m\n\u001b[0;32m      3\u001b[0m \u001b[1;32mfor\u001b[0m \u001b[0mitem\u001b[0m \u001b[1;32min\u001b[0m \u001b[0mlst_products_links\u001b[0m\u001b[1;33m[\u001b[0m\u001b[1;36m2437\u001b[0m\u001b[1;33m:\u001b[0m\u001b[1;33m]\u001b[0m\u001b[1;33m:\u001b[0m\u001b[1;33m\u001b[0m\u001b[1;33m\u001b[0m\u001b[0m\n\u001b[1;32m----> 4\u001b[1;33m     \u001b[0mdriver\u001b[0m\u001b[1;33m.\u001b[0m\u001b[0mget\u001b[0m\u001b[1;33m(\u001b[0m\u001b[0mitem\u001b[0m\u001b[1;33m)\u001b[0m\u001b[1;33m\u001b[0m\u001b[1;33m\u001b[0m\u001b[0m\n\u001b[0m\u001b[0;32m      5\u001b[0m     \u001b[0mwait\u001b[0m\u001b[1;33m.\u001b[0m\u001b[0muntil\u001b[0m\u001b[1;33m(\u001b[0m\u001b[0mEC\u001b[0m\u001b[1;33m.\u001b[0m\u001b[0mpresence_of_element_located\u001b[0m\u001b[1;33m(\u001b[0m\u001b[1;33m(\u001b[0m\u001b[0mBy\u001b[0m\u001b[1;33m.\u001b[0m\u001b[0mXPATH\u001b[0m\u001b[1;33m,\u001b[0m \u001b[1;34m\"//h1[contains(@class,'headerPostName')]//a[contains(@href,'/r/')]\"\u001b[0m\u001b[1;33m)\u001b[0m\u001b[1;33m)\u001b[0m\u001b[1;33m)\u001b[0m\u001b[1;33m\u001b[0m\u001b[1;33m\u001b[0m\u001b[0m\n\u001b[0;32m      6\u001b[0m     \u001b[0mProd_name\u001b[0m\u001b[1;33m=\u001b[0m\u001b[0mdriver\u001b[0m\u001b[1;33m.\u001b[0m\u001b[0mfind_element\u001b[0m\u001b[1;33m(\u001b[0m\u001b[0mBy\u001b[0m\u001b[1;33m.\u001b[0m\u001b[0mXPATH\u001b[0m\u001b[1;33m,\u001b[0m\u001b[1;34m\"//h1[contains(@class,'headerPostName')]//a[contains(@href,'/r/')]\"\u001b[0m\u001b[1;33m)\u001b[0m\u001b[1;33m\u001b[0m\u001b[1;33m\u001b[0m\u001b[0m\n",
      "\u001b[1;32m~\\anaconda3\\lib\\site-packages\\selenium\\webdriver\\remote\\webdriver.py\u001b[0m in \u001b[0;36mget\u001b[1;34m(self, url)\u001b[0m\n\u001b[0;32m    428\u001b[0m         \u001b[0mLoads\u001b[0m \u001b[0ma\u001b[0m \u001b[0mweb\u001b[0m \u001b[0mpage\u001b[0m \u001b[1;32min\u001b[0m \u001b[0mthe\u001b[0m \u001b[0mcurrent\u001b[0m \u001b[0mbrowser\u001b[0m \u001b[0msession\u001b[0m\u001b[1;33m.\u001b[0m\u001b[1;33m\u001b[0m\u001b[1;33m\u001b[0m\u001b[0m\n\u001b[0;32m    429\u001b[0m         \"\"\"\n\u001b[1;32m--> 430\u001b[1;33m         \u001b[0mself\u001b[0m\u001b[1;33m.\u001b[0m\u001b[0mexecute\u001b[0m\u001b[1;33m(\u001b[0m\u001b[0mCommand\u001b[0m\u001b[1;33m.\u001b[0m\u001b[0mGET\u001b[0m\u001b[1;33m,\u001b[0m \u001b[1;33m{\u001b[0m\u001b[1;34m'url'\u001b[0m\u001b[1;33m:\u001b[0m \u001b[0murl\u001b[0m\u001b[1;33m}\u001b[0m\u001b[1;33m)\u001b[0m\u001b[1;33m\u001b[0m\u001b[1;33m\u001b[0m\u001b[0m\n\u001b[0m\u001b[0;32m    431\u001b[0m \u001b[1;33m\u001b[0m\u001b[0m\n\u001b[0;32m    432\u001b[0m     \u001b[1;33m@\u001b[0m\u001b[0mproperty\u001b[0m\u001b[1;33m\u001b[0m\u001b[1;33m\u001b[0m\u001b[0m\n",
      "\u001b[1;32m~\\anaconda3\\lib\\site-packages\\selenium\\webdriver\\remote\\webdriver.py\u001b[0m in \u001b[0;36mexecute\u001b[1;34m(self, driver_command, params)\u001b[0m\n\u001b[0;32m    416\u001b[0m         \u001b[0mresponse\u001b[0m \u001b[1;33m=\u001b[0m \u001b[0mself\u001b[0m\u001b[1;33m.\u001b[0m\u001b[0mcommand_executor\u001b[0m\u001b[1;33m.\u001b[0m\u001b[0mexecute\u001b[0m\u001b[1;33m(\u001b[0m\u001b[0mdriver_command\u001b[0m\u001b[1;33m,\u001b[0m \u001b[0mparams\u001b[0m\u001b[1;33m)\u001b[0m\u001b[1;33m\u001b[0m\u001b[1;33m\u001b[0m\u001b[0m\n\u001b[0;32m    417\u001b[0m         \u001b[1;32mif\u001b[0m \u001b[0mresponse\u001b[0m\u001b[1;33m:\u001b[0m\u001b[1;33m\u001b[0m\u001b[1;33m\u001b[0m\u001b[0m\n\u001b[1;32m--> 418\u001b[1;33m             \u001b[0mself\u001b[0m\u001b[1;33m.\u001b[0m\u001b[0merror_handler\u001b[0m\u001b[1;33m.\u001b[0m\u001b[0mcheck_response\u001b[0m\u001b[1;33m(\u001b[0m\u001b[0mresponse\u001b[0m\u001b[1;33m)\u001b[0m\u001b[1;33m\u001b[0m\u001b[1;33m\u001b[0m\u001b[0m\n\u001b[0m\u001b[0;32m    419\u001b[0m             response['value'] = self._unwrap_value(\n\u001b[0;32m    420\u001b[0m                 response.get('value', None))\n",
      "\u001b[1;32m~\\anaconda3\\lib\\site-packages\\selenium\\webdriver\\remote\\errorhandler.py\u001b[0m in \u001b[0;36mcheck_response\u001b[1;34m(self, response)\u001b[0m\n\u001b[0;32m    241\u001b[0m                 \u001b[0malert_text\u001b[0m \u001b[1;33m=\u001b[0m \u001b[0mvalue\u001b[0m\u001b[1;33m[\u001b[0m\u001b[1;34m'alert'\u001b[0m\u001b[1;33m]\u001b[0m\u001b[1;33m.\u001b[0m\u001b[0mget\u001b[0m\u001b[1;33m(\u001b[0m\u001b[1;34m'text'\u001b[0m\u001b[1;33m)\u001b[0m\u001b[1;33m\u001b[0m\u001b[1;33m\u001b[0m\u001b[0m\n\u001b[0;32m    242\u001b[0m             \u001b[1;32mraise\u001b[0m \u001b[0mexception_class\u001b[0m\u001b[1;33m(\u001b[0m\u001b[0mmessage\u001b[0m\u001b[1;33m,\u001b[0m \u001b[0mscreen\u001b[0m\u001b[1;33m,\u001b[0m \u001b[0mstacktrace\u001b[0m\u001b[1;33m,\u001b[0m \u001b[0malert_text\u001b[0m\u001b[1;33m)\u001b[0m  \u001b[1;31m# type: ignore[call-arg]  # mypy is not smart enough here\u001b[0m\u001b[1;33m\u001b[0m\u001b[1;33m\u001b[0m\u001b[0m\n\u001b[1;32m--> 243\u001b[1;33m         \u001b[1;32mraise\u001b[0m \u001b[0mexception_class\u001b[0m\u001b[1;33m(\u001b[0m\u001b[0mmessage\u001b[0m\u001b[1;33m,\u001b[0m \u001b[0mscreen\u001b[0m\u001b[1;33m,\u001b[0m \u001b[0mstacktrace\u001b[0m\u001b[1;33m)\u001b[0m\u001b[1;33m\u001b[0m\u001b[1;33m\u001b[0m\u001b[0m\n\u001b[0m\u001b[0;32m    244\u001b[0m \u001b[1;33m\u001b[0m\u001b[0m\n\u001b[0;32m    245\u001b[0m     \u001b[1;32mdef\u001b[0m \u001b[0m_value_or_default\u001b[0m\u001b[1;33m(\u001b[0m\u001b[0mself\u001b[0m\u001b[1;33m,\u001b[0m \u001b[0mobj\u001b[0m\u001b[1;33m:\u001b[0m \u001b[0mMapping\u001b[0m\u001b[1;33m[\u001b[0m\u001b[0m_KT\u001b[0m\u001b[1;33m,\u001b[0m \u001b[0m_VT\u001b[0m\u001b[1;33m]\u001b[0m\u001b[1;33m,\u001b[0m \u001b[0mkey\u001b[0m\u001b[1;33m:\u001b[0m \u001b[0m_KT\u001b[0m\u001b[1;33m,\u001b[0m \u001b[0mdefault\u001b[0m\u001b[1;33m:\u001b[0m \u001b[0m_VT\u001b[0m\u001b[1;33m)\u001b[0m \u001b[1;33m->\u001b[0m \u001b[0m_VT\u001b[0m\u001b[1;33m:\u001b[0m\u001b[1;33m\u001b[0m\u001b[1;33m\u001b[0m\u001b[0m\n",
      "\u001b[1;31mNoSuchWindowException\u001b[0m: Message: no such window: target window already closed\nfrom unknown error: web view not found\n  (Session info: chrome=95.0.4638.69)\nStacktrace:\nBacktrace:\n\tOrdinal0 [0x00593AB3+2505395]\n\tOrdinal0 [0x0052AE41+2076225]\n\tOrdinal0 [0x00432498+1057944]\n\tOrdinal0 [0x0041BE96+966294]\n\tOrdinal0 [0x00477F19+1343257]\n\tOrdinal0 [0x004848C2+1394882]\n\tOrdinal0 [0x004758BB+1333435]\n\tOrdinal0 [0x004523E4+1188836]\n\tOrdinal0 [0x0045323F+1192511]\n\tGetHandleVerifier [0x0071CB36+1554566]\n\tGetHandleVerifier [0x007C4A0C+2242396]\n\tGetHandleVerifier [0x00620E0B+523099]\n\tGetHandleVerifier [0x0061FEB0+519168]\n\tOrdinal0 [0x005302FD+2097917]\n\tOrdinal0 [0x00534388+2114440]\n\tOrdinal0 [0x005344C2+2114754]\n\tOrdinal0 [0x0053E041+2154561]\n\tBaseThreadInitThunk [0x7648FA29+25]\n\tRtlGetAppContainerNamedObjectPath [0x77037A9E+286]\n\tRtlGetAppContainerNamedObjectPath [0x77037A6E+238]\n"
     ]
    }
   ],
   "source": [
    "i=0\n",
    "ID=2437\n",
    "for item in lst_products_links[2437:]:\n",
    "    driver.get(item)\n",
    "    wait.until(EC.presence_of_element_located((By.XPATH, \"//h1[contains(@class,'headerPostName')]//a[contains(@href,'/r/')]\")))\n",
    "    Prod_name=driver.find_element(By.XPATH,\"//h1[contains(@class,'headerPostName')]//a[contains(@href,'/r/')]\")\n",
    "    df.loc[i,\"Product_Name\"]=Prod_name.text\n",
    "    print(\"Product Name \",Prod_name.text)\n",
    "    \n",
    "    df.loc[i,\"ID\"]=ID\n",
    "\n",
    "\n",
    "    wait.until(EC.presence_of_element_located((By.XPATH, \"//span[@class='styles_bigButtonCount__1DS7y']\")))\n",
    "    Total_Votes=driver.find_element(By.XPATH,\"//span[@class='styles_bigButtonCount__1DS7y']\")\n",
    "    df.loc[i,\"Total_votes\"]=Total_Votes.text\n",
    "\n",
    "\n",
    "\n",
    "    try:\n",
    "        wait.until(EC.presence_of_element_located((By.XPATH, \"//*[text()='get it']/parent::a\")))\n",
    "        Website=driver.find_element(By.XPATH,\"//*[text()='get it']/parent::a\")\n",
    "        df.loc[i,\"Website_Link\"]=Website.get_attribute('href')\n",
    "    except :\n",
    "        try:\n",
    "            wait.until(EC.presence_of_element_located((By.XPATH, \"//a[@class='styles_link__2efWB']\")))\n",
    "            Website=driver.find_element(By.XPATH,\"//a[@class='styles_link__2efWB']\")           \n",
    "            df.loc[i,\"Website_Link\"]=Website.get_attribute('href')    \n",
    "        except :\n",
    "            try:\n",
    "                wait.until(EC.presence_of_element_located((By.XPATH, \"//*[text()='get it']\"))).click()\n",
    "                wait.until(EC.presence_of_element_located((By.XPATH, \"//div[@class='styles_allLinks__2sH2S']//a[1]\")))\n",
    "                Website=driver.find_element(By.XPATH,\"//div[@class='styles_allLinks__2sH2S']//a[1]\")\n",
    "                df.loc[i,\"Website_Link\"]=Website.get_attribute('href')\n",
    "            except:\n",
    "                #print(\"Link not present\")\n",
    "                df.loc[i,\"Website_Link\"]=\"Link not present\"\n",
    "\n",
    "\n",
    "\n",
    "\n",
    "    try:\n",
    "        Count_Reviews = driver.find_element(By.XPATH,\"//span[contains(@class,'styles_reviewCountActive')]\")\n",
    "        df.loc[i,\"Total_Reviews\"]=Count_Reviews.text\n",
    "    except :\n",
    "        #print(\"Total Reviews : No reviews until now\")\n",
    "        df.loc[i,\"Total_Reviews\"]=\"No reviews until now\"\n",
    "    \n",
    "\n",
    "\n",
    "    try:\n",
    "        Review_Score = driver.find_element(By.XPATH,\"//span[contains(@class,'styles_rating')]\")\n",
    "        df.loc[i,\"Review_Score\"]=Review_Score.text\n",
    "    except :\n",
    "        df.loc[i,\"Review_Score\"]=\"No Review Score until now\"\n",
    "\n",
    "\n",
    "    try:\n",
    "        wait.until(EC.presence_of_element_located((By.XPATH, \"//div[@class='styles_makersContainer__1N77x'][1]//div[@class='styles_content__2OcVn']//div\")))\n",
    "        lst_Hunters = driver.find_elements(By.XPATH,\"//div[@class='styles_makersContainer__1N77x'][1]//div[@class='styles_content__2OcVn']//div\")\n",
    "        Hunters=[]\n",
    "        for item in lst_Hunters:\n",
    "            Hunters.append(item.text)\n",
    "        df.at[i,'Hunters']=Hunters\n",
    "    except:\n",
    "        df.at[i,'Hunters']=\"Hunter Not found\"\n",
    "\n",
    "\n",
    "\n",
    "    try:\n",
    "        wait.until(EC.presence_of_element_located((By.XPATH, \"//div[@class='styles_makersContainer__1N77x'][2]//div[@class='styles_content__2OcVn']//div\")))\n",
    "        lst_Founders = driver.find_elements(By.XPATH,\"//div[@class='styles_makersContainer__1N77x'][2]//div[@class='styles_content__2OcVn']//div\")\n",
    "        Founders=[]\n",
    "        for item in lst_Founders:\n",
    "            Founders.append(item.text)\n",
    "        df.loc[i,\"Founders\"]=Founders            \n",
    "    except:\n",
    "        df.loc[i,\"Founders\"]=\"No Founders exist yet\"  \n",
    "\n",
    "\n",
    "    try:\n",
    "        lst_Industry_type=[]\n",
    "        elemnt1=driver.find_element(By.XPATH,\"//div[@class='styles_topicPriceWrap__2fqZ7']//a[contains(@href,'/topics')]\")\n",
    "        wait.until(EC.presence_of_element_located((By.XPATH, \"//div[@class='styles_topicPriceWrap__2fqZ7']//div/a[@title='More options']\")))\n",
    "        driver.find_element(By.XPATH,\"//div[@class='styles_topicPriceWrap__2fqZ7']//div/a[@title='More options']\").click()\n",
    "        wait.until(EC.presence_of_element_located((By.XPATH, \"//li[@class='styles_option__b7Uwf']//a[contains(@href,'/topics')]\")))\n",
    "        Others = driver.find_elements(By.XPATH,\"//li[@class='styles_option__b7Uwf']//a[contains(@href,'/topics')]\")\n",
    "        lst_Industry_type.extend(Others)\n",
    "        lst_Industry_type.append(elemnt1)\n",
    "        Industry_type=[]\n",
    "        for item in lst_Industry_type:\n",
    "            Industry_type.append(item.text)\n",
    "        df.loc[i,\"Industry_Type\"]=Industry_type\n",
    "    except:\n",
    "        df.loc[i,\"Industry_Type\"]='No Industry type'\n",
    " \n",
    "    \n",
    "    ID=ID+1\n",
    "    df.to_csv('Prod_data_1.csv',mode='a',index=False,header=False)"
   ]
  },
  {
   "cell_type": "code",
   "execution_count": null,
   "id": "c118d986",
   "metadata": {},
   "outputs": [],
   "source": [
    "print(i)"
   ]
  },
  {
   "cell_type": "code",
   "execution_count": null,
   "id": "9797649b",
   "metadata": {
    "scrolled": true
   },
   "outputs": [],
   "source": [
    "print(df)"
   ]
  },
  {
   "cell_type": "code",
   "execution_count": 61,
   "id": "600d1e3d",
   "metadata": {},
   "outputs": [],
   "source": [
    "df1=df"
   ]
  },
  {
   "cell_type": "code",
   "execution_count": 62,
   "id": "28e59e9a",
   "metadata": {},
   "outputs": [],
   "source": [
    "df.to_excel (r'Data5.xlsx', index = False, header=True)"
   ]
  }
 ],
 "metadata": {
  "kernelspec": {
   "display_name": "Python 3",
   "language": "python",
   "name": "python3"
  },
  "language_info": {
   "codemirror_mode": {
    "name": "ipython",
    "version": 3
   },
   "file_extension": ".py",
   "mimetype": "text/x-python",
   "name": "python",
   "nbconvert_exporter": "python",
   "pygments_lexer": "ipython3",
   "version": "3.8.8"
  }
 },
 "nbformat": 4,
 "nbformat_minor": 5
}
